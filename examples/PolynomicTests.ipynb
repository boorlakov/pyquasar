{
 "cells": [
  {
   "cell_type": "code",
   "execution_count": null,
   "metadata": {},
   "outputs": [],
   "source": [
    "import numpy as np\n",
    "import matplotlib.pyplot as plt\n",
    "from scipy import sparse\n",
    "\n",
    "from pyquasar import load_mesh, FemDomain, BemDomain, FetiProblem"
   ]
  },
  {
   "cell_type": "markdown",
   "metadata": {},
   "source": [
    "# FEM one domain test"
   ]
  },
  {
   "cell_type": "code",
   "execution_count": null,
   "metadata": {},
   "outputs": [],
   "source": [
    "def u(p, n):\n",
    "  #return p[..., 0] ** 2 - p[..., 1] ** 2\n",
    "  return 2 * p[..., 0] + 3 * p[..., 1] - 4\n",
    "def flow(p, n):\n",
    "  #return 2 * p[..., 0] * n[..., 0] - 2 * p[..., 1] * n[..., 1]\n",
    "  return 2 * n[..., 0] + 3 * n[..., 1]\n",
    "\n",
    "domain = next(FemDomain(*data) for data in load_mesh('test.geo'))\n",
    "dir_vector = u(domain.vertices[:domain.ext_dof_count], 0)\n",
    "\n",
    "domain.assembly({'dirichlet': flow })\n",
    "sol = domain.solve_neumann(domain.load_vector)\n",
    "\n",
    "sol -= domain.kernel[0] * (sol @ domain.kernel[0])/(domain.kernel[0] @ domain.kernel[0])\n",
    "u_ort = u(domain.vertices, 0) - domain.kernel[0] * (u(domain.vertices, 0) @ domain.kernel[0])/(domain.kernel[0] @ domain.kernel[0])\n",
    "\n",
    "print(f'Neumann problem error: {np.linalg.norm(sol - u_ort)/np.linalg.norm(u_ort)}')\n",
    "print(f'Dirichlet problem error: {np.linalg.norm(domain.solve_dirichlet(dir_vector) - domain.load_vector)/np.linalg.norm(domain.load_vector)}')\n",
    "\n",
    "fig, ax = plt.subplots()\n",
    "ax.set_aspect('equal')\n",
    "tpc = ax.tripcolor(domain.vertices[:, 0], domain.vertices[:, 1], u_ort - sol, triangles=domain.elements[0][1], shading='gouraud')\n",
    "fig.colorbar(tpc)\n",
    "ax.triplot(domain.vertices[:, 0], domain.vertices[:, 1], domain.elements[0][1])"
   ]
  },
  {
   "cell_type": "markdown",
   "metadata": {},
   "source": [
    "# BEM one domain test"
   ]
  },
  {
   "cell_type": "code",
   "execution_count": null,
   "metadata": {},
   "outputs": [],
   "source": [
    "def u(p, n):\n",
    "  return 2 * p[..., 0] + 3 * p[..., 1] - 4\n",
    "def flow(p, n):\n",
    "  return 2 * n[..., 0] + 3 * n[..., 1]\n",
    "\n",
    "domain = next(BemDomain(*data) for data in load_mesh('test.geo'))\n",
    "dir_vector = u(domain.vertices[:domain.ext_dof_count], 0)\n",
    "\n",
    "domain.assembly({ 'dirichlet' : flow })\n",
    "domain.decompose()\n",
    "sol = domain.solve_neumann(domain.load_vector)\n",
    "\n",
    "sol -= domain.kernel[0] * (sol @ domain.kernel[0])/(domain.kernel[0] @ domain.kernel[0])\n",
    "u_ort = dir_vector - domain.kernel[0] * (dir_vector @ domain.kernel[0])/(domain.kernel[0] @ domain.kernel[0])\n",
    "\n",
    "print(f'Neumann problem error: {np.linalg.norm(sol - u_ort)/np.linalg.norm(u_ort)}')\n",
    "print(f'Dirichlet problem error: {np.linalg.norm(domain.solve_dirichlet(dir_vector) - domain.load_vector)/np.linalg.norm(domain.load_vector)}')\n",
    "\n",
    "sol = domain.calc_solution(sol)\n",
    "sol -= np.ones_like(sol) * (sol @ np.ones_like(sol))/(np.ones_like(sol) @ np.ones_like(sol))\n",
    "u_ort = u(domain.vertices, 0) - np.ones_like(sol) * (u(domain.vertices, 0) @ np.ones_like(sol))/(np.ones_like(sol) @ np.ones_like(sol))\n",
    "\n",
    "print(f'Error in points: {np.linalg.norm(sol - u_ort)/np.linalg.norm(u_ort)}')\n",
    "\n",
    "fig, ax = plt.subplots()\n",
    "ax.set_aspect('equal')\n",
    "tpc = ax.tripcolor(domain.vertices[:, 0], domain.vertices[:, 1], sol - u_ort, triangles=domain.elements[0][1], shading='gouraud')\n",
    "fig.colorbar(tpc)\n",
    "ax.triplot(domain.vertices[:, 0], domain.vertices[:, 1], domain.elements[0][1])"
   ]
  },
  {
   "cell_type": "markdown",
   "metadata": {},
   "source": [
    "# FETI Simple Tests"
   ]
  },
  {
   "cell_type": "code",
   "execution_count": null,
   "metadata": {},
   "outputs": [],
   "source": [
    "def print_feti_information(problem):\n",
    "  print(f'Feti problem: domains {len(problem.domains)}, dual size {problem.dual_size}, primal size {problem.primal_size}')\n",
    "  print(f'Condition number estimation {problem.condition_number_estimate():.2f}')\n",
    "\n",
    "def print_domains_information(domains):\n",
    "  fem = [domain for domain in domains if isinstance(domain, FemDomain)]\n",
    "  print(f'FEM domains {len(fem)}, elements {sum(d.element_count for d in fem)}, dof {sum(d.dof_count for d in fem)}')\n",
    "  bem = [domain for domain in domains if isinstance(domain, BemDomain)]\n",
    "  print(f'BEM domains {len(bem)}, elements {sum(d.element_count for d in bem)}, dof {sum(d.dof_count for d in bem)}')"
   ]
  },
  {
   "cell_type": "code",
   "execution_count": null,
   "metadata": {},
   "outputs": [],
   "source": [
    "def simple_test(mesh, dirichlet_name, materials, bem = False):\n",
    "  domains = [(BemDomain if bem else FemDomain)(*data) for data in mesh]\n",
    "  print_domains_information(domains)\n",
    "\n",
    "  problem = FetiProblem(domains)\n",
    "  problem.assembly(dirichlet_name, materials)\n",
    "  print_feti_information(problem)\n",
    "  print()\n",
    "\n",
    "  u = materials.get(dirichlet_name, lambda p, n: 0)\n",
    "  problem.add_skeleton_projection(u, { name: { dirichlet_name } for name in materials.keys() })\n",
    "\n",
    "  problem.decompose()\n",
    "  for precond, Q in [('Dirichlet', 'Diag'), ('Lumped Dirichlet', 'Diag'),\n",
    "                     ('Dirichlet', 'I'), ('Lumped Dirichlet', 'I'),\n",
    "                     ('Dirichlet', 'M'), ('Lumped Dirichlet', 'M'),\n",
    "                     ('I', 'I')]:\n",
    "    print(f'Precondition = {precond}, Q = {Q}')\n",
    "    solutions = problem.solve(precond, Q)\n",
    "\n",
    "    I = sparse.identity(problem.dual_size).todense()\n",
    "    A = problem.projectT(problem.operator(I))\n",
    "    M = problem.project(problem.preconditioner(I, precond))\n",
    "    def cond(A):\n",
    "      svd = np.linalg.svd(A)[1]\n",
    "      return svd.max()/svd.min(where=svd > 1e-10, initial=np.inf)\n",
    "    cond_est = problem.condition_number_estimate()\n",
    "    print(f'k(A) = {cond(A):.2f}, k(MA) = {(c := cond(M @ A)):.2f}, k(MA)/est = {c/cond_est:.2f}')\n",
    "\n",
    "    err_norm = 0\n",
    "    u_norm = 0\n",
    "    for domain, sol in zip(problem.domains, solutions):\n",
    "      err_norm = np.linalg.norm(u(domain.vertices, 0) - sol)\n",
    "      u_norm = np.linalg.norm(u(domain.vertices, 0))\n",
    "\n",
    "    print(f'Relative error: {err_norm/u_norm:.2e}')"
   ]
  },
  {
   "cell_type": "markdown",
   "metadata": {},
   "source": [
    "## FEM Linear test"
   ]
  },
  {
   "cell_type": "code",
   "execution_count": null,
   "metadata": {},
   "outputs": [],
   "source": [
    "def u(p, n):\n",
    "  return 2 * p[..., 0] + 3 * p[..., 1] - 4\n",
    "def flow(p, n):\n",
    "  return 2 * n[..., 0] + 3 * n[..., 1]\n",
    "def source(p, n):\n",
    "  return 0\n",
    "\n",
    "materials = { 'dirichlet': u, 'steel': { 'neumann': flow, 'steel': source }}\n",
    "simple_test(load_mesh('test.geo', 10, 3), 'dirichlet', materials)"
   ]
  },
  {
   "cell_type": "markdown",
   "metadata": {},
   "source": [
    "## BEM Linear test"
   ]
  },
  {
   "cell_type": "code",
   "execution_count": null,
   "metadata": {},
   "outputs": [],
   "source": [
    "def u(p, n):\n",
    "  return 2 * p[..., 0] + 3 * p[..., 1] - 4\n",
    "def flow(p, n):\n",
    "  return 2 * n[..., 0] + 3 * n[..., 1]\n",
    "\n",
    "materials = { 'dirichlet': u, 'steel': { 'neumann': flow, 'steel': 0 }}\n",
    "simple_test(load_mesh('test.geo', 10, 3), 'dirichlet', materials, bem = True)"
   ]
  },
  {
   "cell_type": "markdown",
   "metadata": {},
   "source": [
    "## FEM Quadratic test"
   ]
  },
  {
   "cell_type": "code",
   "execution_count": null,
   "metadata": {},
   "outputs": [],
   "source": [
    "def u(p, n):\n",
    "  return p[..., 0] ** 2\n",
    "def flow(p, n):\n",
    "  return 2 * p[..., 0] * n[..., 0]\n",
    "\n",
    "materials = { 'dirichlet': u, 'steel': { 'neumann': flow, 'steel': -2 }}\n",
    "simple_test(load_mesh('test.geo', 10, 3), 'dirichlet', materials)"
   ]
  },
  {
   "cell_type": "markdown",
   "metadata": {},
   "source": [
    "## BEM Quadratic test"
   ]
  },
  {
   "cell_type": "code",
   "execution_count": null,
   "metadata": {},
   "outputs": [],
   "source": [
    "def u(p, n):\n",
    "  return p[..., 0] ** 2\n",
    "def flow(p, n):\n",
    "  return 2 * p[..., 0] * n[..., 0]\n",
    "\n",
    "materials = { 'dirichlet': u, 'steel': { 'neumann': flow, 'steel': -2 }}\n",
    "simple_test(load_mesh('test.geo', 10, 3), 'dirichlet', materials, bem = True)"
   ]
  }
 ],
 "metadata": {
  "kernelspec": {
   "display_name": "Python 3",
   "language": "python",
   "name": "python3"
  },
  "language_info": {
   "codemirror_mode": {
    "name": "ipython",
    "version": 3
   },
   "file_extension": ".py",
   "mimetype": "text/x-python",
   "name": "python",
   "nbconvert_exporter": "python",
   "pygments_lexer": "ipython3",
   "version": "3.12.0"
  }
 },
 "nbformat": 4,
 "nbformat_minor": 2
}
