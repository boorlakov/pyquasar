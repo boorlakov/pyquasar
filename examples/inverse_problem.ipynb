{
 "cells": [
  {
   "cell_type": "markdown",
   "metadata": {},
   "source": [
    "# Inverse problem of the reconstruction of the Neumann BCs for Laplace's equation"
   ]
  },
  {
   "cell_type": "markdown",
   "metadata": {},
   "source": [
    "__Formulation of Inverse Problem__\n",
    "\n",
    "__Direct Problem__\n",
    "- Equation: $A * x = f$\n",
    "- $A$: Matrix of Direct Problem\n",
    "  - shape: ($\\text{dof}$, $\\text{dof}$)\n",
    "- $x$: Solution of Direct Problem\n",
    "  - shape: ($\\text{dof}$)\n",
    "- $f$: Load Vector of Direct Problem\n",
    "  - shape: ($\\text{dof}$)\n",
    "- $F$: Projection Matrix from Normal Derivative in given points (Mass Matrix over Boundary Elements)\n",
    "  - shape: ($\\text{dof}$, $g$)\n",
    "\n",
    "__Inverse Problem__\n",
    "- Equation: $M * y = \\text{grad}$\n",
    "- $M$: Resulting Matrix of Inverse Problem\n",
    "  - shape: ($3p$, $\\text{dof}$)\n",
    "- $y$: Normal Derivative in Boundary Points\n",
    "- $\\text{grad}$: Concatenation of Grad Vectors ($\\text{grad}_x, \\text{grad}_y, \\text{grad}_z$)\n",
    "\n",
    "__Additional Variables__\n",
    "- $P_x, P_y, P_z$: Projection Matrices from Solution to Partial Derivative\n",
    "  - shape: ($p$, $\\text{dof}$)\n",
    "- $M_x = P_x \\times A^{-1} \\times F$: Need batching with Direct Solvers (spsolve or better factorized to reduce amount of time)\n",
    "  - Note: $A$ is singular, so we need to be careful with solving the system\n",
    "- $M = (M_x, M_y, M_z)$: Concatenation of Inverse Problem Matrices\n",
    "- $\\text{dof}$: Degrees of Freedom of Direct Problem\n",
    "- $p$: Number of Measuring Points\n",
    "- $g$: Number of Boundary Points with Known Normal Derivative (Is it all boundary points?)"
   ]
  },
  {
   "cell_type": "markdown",
   "metadata": {},
   "source": [
    "__About calculating M__\n",
    "\n",
    "Computing $M$ consists of solving a lot of systems of linear equations:\n",
    "\n",
    "$$A^{-1} * F = X$$\n",
    "\n",
    "is same with solving SLAE with matrix rhs:\n",
    "\n",
    "$$AX = F$$\n",
    "\n",
    "Result of this multipication can be a big dense (90% density) matrix so we should solve SLAE with one or several columns form $F$.\n",
    "\n",
    "Probable algorithm for getting $M$ (Under investigation, because it gives big error (e.g. `1e-2` instead of `1e-11`))\n",
    "\n",
    "```python\n",
    "for f in F:\n",
    "\n",
    "  x = spsolve(A, f) # f.shape: (dof, 1)\n",
    "  \n",
    "  Mx[i] = P_x @ x\n",
    "```"
   ]
  },
  {
   "cell_type": "markdown",
   "metadata": {},
   "source": [
    "__Questions__\n",
    "\n",
    "1. How to deal with $A$ is singular? It affects calculation of $M$.\n",
    "\n",
    "2. How to assemble $F$, if we have rhs (source) in direct problem? (If equation is not Laplace's)"
   ]
  },
  {
   "cell_type": "markdown",
   "metadata": {},
   "source": [
    "## Preprocessing"
   ]
  },
  {
   "cell_type": "markdown",
   "metadata": {},
   "source": [
    "Import the required libraries"
   ]
  },
  {
   "cell_type": "code",
   "execution_count": 1,
   "metadata": {},
   "outputs": [],
   "source": [
    "import numpy as np\n",
    "import scipy as sp\n",
    "import cupy as cp\n",
    "import cupy.sparse.linalg as cpsl\n",
    "\n",
    "from tqdm import tqdm\n",
    "\n",
    "import pyquasar as pq\n",
    "\n",
    "np.set_printoptions(precision=3, suppress=False)\n",
    "sp.sparse.linalg.use_solver(useUmfpack=False)"
   ]
  },
  {
   "cell_type": "markdown",
   "metadata": {},
   "source": [
    "Load the `.geo` file and generate the mesh for the problem using GMSH.\n",
    "\n",
    "`refine_k` is the number of times the mesh is refined."
   ]
  },
  {
   "cell_type": "code",
   "execution_count": 2,
   "metadata": {},
   "outputs": [
    {
     "data": {
      "text/plain": [
       "<Mesh object summary \n",
       "\tNumeration: global\n",
       "\tDomains: [<MeshDomain object summary\n",
       "\tMaterial: air\n",
       "\tTotal elements number: 86016\n",
       "\tElement type: Tetrahedron 10 NC; Count: 86016\n",
       "\tBoundary type: neumann; Tag: 4; Element type: Triangle 6 NC; Count: 8192.\n",
       "\tBoundary type: neumann; Tag: 5; Element type: Triangle 6 NC; Count: 896.\n",
       "\tBoundary type: neumann; Tag: 6; Element type: Triangle 6 NC; Count: 896.\n",
       ">]>"
      ]
     },
     "execution_count": 2,
     "metadata": {},
     "output_type": "execute_result"
    }
   ],
   "source": [
    "mesh = pq.Mesh.load(\"circle_splitted.msh\", basis_order=2, refine_k=1)\n",
    "mesh"
   ]
  },
  {
   "cell_type": "code",
   "execution_count": 3,
   "metadata": {},
   "outputs": [
    {
     "data": {
      "text/plain": [
       "0.0"
      ]
     },
     "execution_count": 3,
     "metadata": {},
     "output_type": "execute_result"
    }
   ],
   "source": [
    "mesh.domains[0].vertices[..., 2] = mesh.domains[0].vertices[..., 2] + 1.6\n",
    "mesh.domains[0].vertices[..., 2].min()"
   ]
  },
  {
   "cell_type": "markdown",
   "metadata": {},
   "source": [
    "## Direct Problem"
   ]
  },
  {
   "cell_type": "markdown",
   "metadata": {},
   "source": [
    "Assemble & solve the direct problem to obtain problem matrix, load vector and the solution `u`.\n",
    "\n",
    "Note that mesh consists of only Neumann boundary conditions and therefore the solution `u` is need to be orthogonalized."
   ]
  },
  {
   "cell_type": "code",
   "execution_count": 4,
   "metadata": {},
   "outputs": [
    {
     "name": "stdout",
     "output_type": "stream",
     "text": [
      "DOF: 124865\n"
     ]
    }
   ],
   "source": [
    "# Define the materials dictionary\n",
    "materials = {\n",
    "  \"air\": {\"air\": 0},\n",
    "}\n",
    "\n",
    "# Create a list of FemDomain objects from the mesh domains\n",
    "domains = [pq.FemDomain(domain) for domain in mesh.domains]\n",
    "\n",
    "# Create a FemProblem object with the domains\n",
    "problem = pq.FemProblem(domains)\n",
    "\n",
    "# Assemble the problem using the materials dictionary\n",
    "problem.assembly(materials, batch_size=1024)\n",
    "\n",
    "problem._matrix = problem._matrix.tocsr()\n",
    "problem.matrix.data[problem.matrix.indptr[-2] : problem.matrix.indptr[-1]] = 0\n",
    "problem._matrix = problem._matrix.tocsc()\n",
    "problem.matrix.data[problem.matrix.indptr[-2] : problem.matrix.indptr[-1]] = 0\n",
    "problem._matrix[-1, -1] = 1\n",
    "problem._matrix.eliminate_zeros()\n",
    "\n",
    "# Print the degree of freedom count\n",
    "print(f\"DOF: {problem.dof_count}\")"
   ]
  },
  {
   "cell_type": "markdown",
   "metadata": {},
   "source": [
    "## Inverse Problem"
   ]
  },
  {
   "cell_type": "markdown",
   "metadata": {},
   "source": [
    "Get points of interest"
   ]
  },
  {
   "cell_type": "code",
   "execution_count": 5,
   "metadata": {},
   "outputs": [
    {
     "data": {
      "text/plain": [
       "(7200, 3)"
      ]
     },
     "execution_count": 5,
     "metadata": {},
     "output_type": "execute_result"
    }
   ],
   "source": [
    "data = np.load(\"data/data.npz\")\n",
    "\n",
    "xs = data[\"xs\"]\n",
    "ys = data[\"ys\"]\n",
    "zs = data[\"zs\"]\n",
    "\n",
    "grad_x = data[\"grad_x\"]\n",
    "grad_y = data[\"grad_y\"]\n",
    "grad_z = data[\"grad_z\"]\n",
    "\n",
    "data.close()\n",
    "\n",
    "grad = np.concatenate([grad_x[:7200], grad_y[:7200], grad_z[:7200]])\n",
    "grad_cp = cp.array(grad)\n",
    "\n",
    "pts = np.concatenate([xs[:7200, None], ys[:7200, None], zs[:7200, None]], axis=1)\n",
    "pts.shape"
   ]
  },
  {
   "cell_type": "markdown",
   "metadata": {},
   "source": [
    "Project the solution gradient into the points of interest"
   ]
  },
  {
   "cell_type": "code",
   "execution_count": 6,
   "metadata": {},
   "outputs": [
    {
     "name": "stderr",
     "output_type": "stream",
     "text": [
      "100%|██████████| 57/57 [00:02<00:00, 22.00it/s]\n"
     ]
    }
   ],
   "source": [
    "proj_grad = problem.project_grad_into(cp.asarray(pts), batch_size=128)"
   ]
  },
  {
   "cell_type": "markdown",
   "metadata": {},
   "source": [
    "Get the Mass matrix over the Neumann type boundary"
   ]
  },
  {
   "cell_type": "code",
   "execution_count": 7,
   "metadata": {},
   "outputs": [],
   "source": [
    "F = problem.mass_boundary([\"neumann\"])\n",
    "F_cp = cp.sparse.csc_matrix(F)"
   ]
  },
  {
   "cell_type": "markdown",
   "metadata": {},
   "source": [
    "Initialize the inverse problem matrix"
   ]
  },
  {
   "cell_type": "code",
   "execution_count": 8,
   "metadata": {},
   "outputs": [],
   "source": [
    "m_shape = pts.shape[0], F.shape[1]\n",
    "Mx_cp = cp.zeros(m_shape)\n",
    "My_cp = cp.zeros(m_shape)\n",
    "Mz_cp = cp.zeros(m_shape)"
   ]
  },
  {
   "cell_type": "markdown",
   "metadata": {},
   "source": [
    "Get factorization of direct problem matrix"
   ]
  },
  {
   "cell_type": "code",
   "execution_count": 9,
   "metadata": {},
   "outputs": [],
   "source": [
    "lu_cp = cp.sparse.linalg.splu(cp.sparse.csc_matrix(problem.matrix))"
   ]
  },
  {
   "cell_type": "markdown",
   "metadata": {},
   "source": [
    "Iteratively calculate the inverse problem matrix"
   ]
  },
  {
   "cell_type": "code",
   "execution_count": 10,
   "metadata": {},
   "outputs": [],
   "source": [
    "proj_grad_cp = (\n",
    "  cp.sparse.csr_matrix(proj_grad[0]),\n",
    "  cp.sparse.csr_matrix(proj_grad[1]),\n",
    "  cp.sparse.csr_matrix(proj_grad[2]),\n",
    ")"
   ]
  },
  {
   "cell_type": "code",
   "execution_count": 11,
   "metadata": {},
   "outputs": [
    {
     "name": "stderr",
     "output_type": "stream",
     "text": [
      "  0%|          | 0/79 [00:00<?, ?it/s]"
     ]
    },
    {
     "name": "stderr",
     "output_type": "stream",
     "text": [
      "100%|██████████| 79/79 [01:18<00:00,  1.01it/s]\n",
      "/tmp/ipykernel_624284/2234959353.py:21: FutureWarning: cupy.cuda.MemoryAsyncPool is experimental. The interface can change in the future.\n",
      "  mempool = cp.cuda.MemoryAsyncPool()\n"
     ]
    }
   ],
   "source": [
    "batch_size = 256\n",
    "num_batches = F_cp.shape[1] // batch_size\n",
    "\n",
    "if F_cp.shape[1] % batch_size != 0:\n",
    "  num_batches += 1\n",
    "\n",
    "for i in tqdm(range(num_batches)):\n",
    "  sol = lu_cp.solve(F_cp.T[i * batch_size : (i + 1) * batch_size].T.toarray())\n",
    "  \n",
    "  Mx_cp[:, i * batch_size : (i + 1) * batch_size] = (proj_grad_cp[0] @ sol)\n",
    "  My_cp[:, i * batch_size : (i + 1) * batch_size] = (proj_grad_cp[1] @ sol)\n",
    "  Mz_cp[:, i * batch_size : (i + 1) * batch_size] = (proj_grad_cp[2] @ sol)\n",
    "M_cp = cp.concatenate([Mx_cp, My_cp, Mz_cp])\n",
    "\n",
    "del Mx_cp\n",
    "del My_cp\n",
    "del Mz_cp\n",
    "del F_cp\n",
    "del proj_grad_cp\n",
    "\n",
    "mempool = cp.cuda.MemoryAsyncPool()\n",
    "mempool.free_all_blocks()"
   ]
  },
  {
   "cell_type": "markdown",
   "metadata": {},
   "source": [
    "Iteratively calculate the inverse problem solution"
   ]
  },
  {
   "cell_type": "code",
   "execution_count": 20,
   "metadata": {},
   "outputs": [
    {
     "name": "stdout",
     "output_type": "stream",
     "text": [
      "The reason of stopping: 7\n",
      "Number of iterations: 100\n",
      "Norm of the residual: 1.76e-01\n",
      "Norm of modified residual: 8.41e-04\n",
      "Relative error of inverse problem solution (M @ y = grad): 9.49e-04\n"
     ]
    }
   ],
   "source": [
    "res_flow_cp, istop, itn, normr, normar = cpsl.lsmr(M_cp, grad_cp, atol=1e-15, btol=1e-15, maxiter=100)[:5]\n",
    "\n",
    "rerr = cp.linalg.norm(M_cp @ res_flow_cp - grad_cp) / np.linalg.norm(grad_cp)\n",
    "\n",
    "print(f\"The reason of stopping: {istop}\")\n",
    "print(f\"Number of iterations: {itn}\")\n",
    "print(f\"Norm of the residual: {normr:.2e}\")\n",
    "print(f\"Norm of modified residual: {normar:.2e}\")\n",
    "print(f\"Relative error of inverse problem solution (M @ y = grad): {rerr:.2e}\")"
   ]
  },
  {
   "cell_type": "code",
   "execution_count": 21,
   "metadata": {},
   "outputs": [],
   "source": [
    "# M_pinv_cp = cp.linalg.pinv(M_cp, rcond=1e-11)\n",
    "# res_flow_cp = M_pinv_cp @ grad_cp\n",
    "\n",
    "# normr_pinv = cp.linalg.norm(M_cp @ res_flow_cp - grad_cp) / cp.linalg.norm(grad_cp)\n",
    "# normar_pinv = cp.linalg.norm(M_cp.T @ M_cp @ res_flow_cp - M_cp.T @ grad_cp) / cp.linalg.norm(M_cp.T @ grad_cp)\n",
    "# print(f\"Norm of modified residual: {normar_pinv:.2e}\")\n",
    "# print(f\"Norm of residual (M @ y = grad): {normr_pinv:.2e}\")"
   ]
  },
  {
   "cell_type": "code",
   "execution_count": 22,
   "metadata": {},
   "outputs": [],
   "source": [
    "res_flow = cp.asnumpy(res_flow_cp)"
   ]
  },
  {
   "cell_type": "markdown",
   "metadata": {},
   "source": [
    "Test through direct problem"
   ]
  },
  {
   "cell_type": "code",
   "execution_count": 23,
   "metadata": {},
   "outputs": [],
   "source": [
    "# Get the kernel for Gram-Schmidt orthogonalization\n",
    "kernel = problem.domains[0].kernel\n",
    "\n",
    "# Calculate load vector via inverse problem result flow\n",
    "problem._load_vector = np.zeros_like(problem._load_vector)\n",
    "problem._load_vector += F @ res_flow\n",
    "\n",
    "# Solve the problem\n",
    "test_sol = problem.solve(atol=1e-15)\n",
    "\n",
    "# Perform the Gram-Schmidt orthogonalization\n",
    "test_sol -= kernel[0] * (test_sol @ kernel[0]) / (kernel[0] @ kernel[0])"
   ]
  },
  {
   "cell_type": "code",
   "execution_count": 24,
   "metadata": {},
   "outputs": [
    {
     "name": "stderr",
     "output_type": "stream",
     "text": [
      "100%|██████████| 287/287 [00:19<00:00, 14.67it/s]\n"
     ]
    }
   ],
   "source": [
    "test_pts = np.concatenate([xs[7200:, None], ys[7200:, None], zs[7200:, None]], axis=1)\n",
    "test_true_grad = np.concatenate([grad_x[7200:], grad_y[7200:], grad_z[7200:]])\n",
    "test_proj_grad = problem.project_grad_into(cp.asarray(test_pts), batch_size=512)"
   ]
  },
  {
   "cell_type": "code",
   "execution_count": 25,
   "metadata": {},
   "outputs": [],
   "source": [
    "test_grad_x = test_proj_grad[0] @ test_sol\n",
    "test_grad_y = test_proj_grad[1] @ test_sol\n",
    "test_grad_z = test_proj_grad[2] @ test_sol\n",
    "\n",
    "test_grad = np.concatenate([test_grad_x, test_grad_y, test_grad_z])"
   ]
  },
  {
   "cell_type": "code",
   "execution_count": 26,
   "metadata": {},
   "outputs": [],
   "source": [
    "diff_x = test_grad_x - grad_x[7200:]\n",
    "diff_y = test_grad_y - grad_y[7200:]\n",
    "diff_z = test_grad_z - grad_z[7200:]"
   ]
  },
  {
   "cell_type": "code",
   "execution_count": 27,
   "metadata": {},
   "outputs": [
    {
     "name": "stdout",
     "output_type": "stream",
     "text": [
      "Result error: 2.34e-04\n"
     ]
    }
   ],
   "source": [
    "err = np.sqrt((diff_x**2 + diff_y**2 + diff_z**2) / (diff_x.shape[0]))\n",
    "print(f\"Result error: {err.max():.2e}\")"
   ]
  },
  {
   "cell_type": "code",
   "execution_count": null,
   "metadata": {},
   "outputs": [],
   "source": []
  }
 ],
 "metadata": {
  "kernelspec": {
   "display_name": "quasar",
   "language": "python",
   "name": "python3"
  },
  "language_info": {
   "codemirror_mode": {
    "name": "ipython",
    "version": 3
   },
   "file_extension": ".py",
   "mimetype": "text/x-python",
   "name": "python",
   "nbconvert_exporter": "python",
   "pygments_lexer": "ipython3",
   "version": "3.11.8"
  }
 },
 "nbformat": 4,
 "nbformat_minor": 2
}
