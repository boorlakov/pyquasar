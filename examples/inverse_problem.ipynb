{
 "cells": [
  {
   "cell_type": "code",
   "execution_count": 22,
   "metadata": {},
   "outputs": [
    {
     "name": "stdout",
     "output_type": "stream",
     "text": [
      "The line_profiler extension is already loaded. To reload it, use:\n",
      "  %reload_ext line_profiler\n"
     ]
    }
   ],
   "source": [
    "import pyquasar as pq\n",
    "import matplotlib.pyplot as plt\n",
    "import numpy as np\n",
    "import pyvista as pv\n",
    "\n",
    "np.set_printoptions(precision=3, suppress=True)\n",
    "%config InlineBackend.figure_format='retina'\n",
    "%load_ext line_profiler"
   ]
  },
  {
   "cell_type": "code",
   "execution_count": 23,
   "metadata": {},
   "outputs": [],
   "source": [
    "plt.rcParams.update(\n",
    "  {\n",
    "    \"figure.figsize\": (6, 6),\n",
    "    \"axes.facecolor\": \"none\",\n",
    "    \"font.size\": 10,\n",
    "    \"xtick.labelsize\": 8,\n",
    "    \"ytick.labelsize\": 8,\n",
    "  }\n",
    ")"
   ]
  },
  {
   "cell_type": "code",
   "execution_count": 52,
   "metadata": {},
   "outputs": [
    {
     "data": {
      "text/plain": [
       "<Mesh object summary \n",
       "\tNumeration: global\n",
       "\tDomains: [<MeshDomain object summary\n",
       "\tMaterial: steel\n",
       "\tTotal elements number: 512\n",
       "\tElement type: Tetrahedron 4; Count: 512\n",
       "\tBoundary type: dirichlet; Tag: 1; Element type: Triangle 3; Count: 64.\n",
       "\tBoundary type: neumann; Tag: 2; Element type: Triangle 3; Count: 64.\n",
       "\tBoundary type: neumann; Tag: 3; Element type: Triangle 3; Count: 64.\n",
       "\tBoundary type: neumann; Tag: 4; Element type: Triangle 3; Count: 64.\n",
       ">]>"
      ]
     },
     "execution_count": 52,
     "metadata": {},
     "output_type": "execute_result"
    }
   ],
   "source": [
    "mesh = pq.Mesh.load(\"tetra.geo\", refine_k=3)\n",
    "# mesh = pq.Mesh.load(\"cube.geo\", refine_k=0)\n",
    "mesh"
   ]
  },
  {
   "cell_type": "code",
   "execution_count": 53,
   "metadata": {},
   "outputs": [],
   "source": [
    "def u(p, n):\n",
    "  return p[..., 0] ** 2 - p[..., 1] ** 2\n",
    "  return 2 * p[..., 0] + 2 * p[..., 1] + 2 * p[..., 2]\n",
    "  return 2 * p[..., 0] + 3 * p[..., 1] + 5 * p[..., 2] - 4\n",
    "\n",
    "\n",
    "def flow(p, n):\n",
    "  return 2 * p[..., 0] * n[..., 0] - 2 * p[..., 1] * n[..., 1]\n",
    "  return 2 * n[..., 0] + 2 * n[..., 1] + 2 * n[..., 2]\n",
    "  return 2 * n[..., 0] + 3 * n[..., 1] + 5 * n[..., 2]"
   ]
  },
  {
   "cell_type": "code",
   "execution_count": 54,
   "metadata": {},
   "outputs": [
    {
     "name": "stdout",
     "output_type": "stream",
     "text": [
      "Relative error: 1.23e-02\n"
     ]
    }
   ],
   "source": [
    "materials = {\n",
    "  \"dirichlet\": u,\n",
    "  \"steel\": {\"neumann\": flow, \"steel\": 0},\n",
    "  \"air\": {\"neumann\": flow, \"air\": 0},\n",
    "}\n",
    "\n",
    "domains = [pq.FemDomain(domain) for domain in mesh.domains]\n",
    "problem = pq.FemProblem(domains)\n",
    "problem.assembly(materials)\n",
    "problem.add_skeleton_projection(u, [\"dirichlet\"])\n",
    "sol = problem.solve()\n",
    "rel_err = np.linalg.norm(sol - u(mesh.domains[0].vertices, 0)) / np.linalg.norm(u(mesh.domains[0].vertices, 0))\n",
    "print(f\"Relative error: {rel_err:.2e}\")"
   ]
  },
  {
   "cell_type": "code",
   "execution_count": 55,
   "metadata": {},
   "outputs": [],
   "source": [
    "# points = mesh.domains[0].vertices\n",
    "# cells = np.array([np.insert(element, 0, 4) for element in mesh.domains[0].elements[0].node_tags])\n",
    "# # cells1 = np.array([np.insert(element, 0, 4) for element in mesh.domains[0].elements[0].node_tags])\n",
    "# # cells2 = np.array([np.insert(element, 0, 4) for element in mesh.domains[1].elements[0].node_tags])\n",
    "# # cells = np.concatenate([cells1, cells2])\n",
    "# celltypes = [pv.CellType.TETRA] * cells.shape[0]\n",
    "\n",
    "# pv.set_jupyter_backend(\"trame\")\n",
    "# # pv.set_jupyter_backend(\"static\")\n",
    "\n",
    "# grid = pv.UnstructuredGrid()\n",
    "# grid = pv.UnstructuredGrid(cells, celltypes, points)\n",
    "# grid.point_data[\"u\"] = sol\n",
    "# grid.plot(show_edges=True)"
   ]
  },
  {
   "cell_type": "code",
   "execution_count": 56,
   "metadata": {},
   "outputs": [],
   "source": [
    "points = np.array(\n",
    "  [\n",
    "    [0, 0, 0],\n",
    "    # [0.1, 0.1, 0.1],\n",
    "    # [0.5, 0, 0],\n",
    "    # [0.5, 0, 0.5],\n",
    "    [0, 1.0, 0],\n",
    "    [1.0, 0.0, 0.0],\n",
    "    [0, 0, 1]\n",
    "  ]\n",
    ")\n",
    "proj = problem.project_into(points)"
   ]
  },
  {
   "cell_type": "code",
   "execution_count": 57,
   "metadata": {},
   "outputs": [
    {
     "data": {
      "text/plain": [
       "0.015829372790156244"
      ]
     },
     "execution_count": 57,
     "metadata": {},
     "output_type": "execute_result"
    }
   ],
   "source": [
    "np.linalg.norm(proj @ sol - u(points, 0)) / np.linalg.norm(u(points, 0))"
   ]
  },
  {
   "cell_type": "code",
   "execution_count": 58,
   "metadata": {},
   "outputs": [
    {
     "data": {
      "text/plain": [
       "(array([0.096, 0.124, 1.812, 0.124]),\n",
       " array([-0.12 , -1.864, -0.101, -0.125]),\n",
       " array([ 0.005, -0.   ,  0.03 , -0.005]))"
      ]
     },
     "execution_count": 58,
     "metadata": {},
     "output_type": "execute_result"
    }
   ],
   "source": [
    "proj_grad = problem.project_grad_into(points)\n",
    "proj_grad[0] @ sol, proj_grad[1] @ sol, proj_grad[2] @ sol"
   ]
  },
  {
   "cell_type": "code",
   "execution_count": 59,
   "metadata": {},
   "outputs": [
    {
     "data": {
      "text/plain": [
       "(0.13689059996133146, 0.1210140184527428)"
      ]
     },
     "execution_count": 59,
     "metadata": {},
     "output_type": "execute_result"
    }
   ],
   "source": [
    "grad_x = np.array([2 * p[0] for p in points])\n",
    "grad_y = np.array([-2 * p[1] for p in points])\n",
    "grad_z = 2 * np.ones(points.shape[0])\n",
    "(\n",
    "  np.linalg.norm(grad_x - proj_grad[0] @ sol) / np.linalg.norm(grad_x),\n",
    "  np.linalg.norm(grad_y - proj_grad[1] @ sol) / np.linalg.norm(grad_y),\n",
    "  # np.linalg.norm(grad_z - proj_grad[2] @ sol) / np.linalg.norm(grad_z),\n",
    ")"
   ]
  },
  {
   "cell_type": "code",
   "execution_count": null,
   "metadata": {},
   "outputs": [],
   "source": []
  }
 ],
 "metadata": {
  "kernelspec": {
   "display_name": "quasar",
   "language": "python",
   "name": "python3"
  },
  "language_info": {
   "codemirror_mode": {
    "name": "ipython",
    "version": 3
   },
   "file_extension": ".py",
   "mimetype": "text/x-python",
   "name": "python",
   "nbconvert_exporter": "python",
   "pygments_lexer": "ipython3",
   "version": "3.11.8"
  }
 },
 "nbformat": 4,
 "nbformat_minor": 2
}
