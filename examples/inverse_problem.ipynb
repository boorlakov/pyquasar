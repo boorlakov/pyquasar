{
 "cells": [
  {
   "cell_type": "code",
   "execution_count": 2,
   "metadata": {},
   "outputs": [],
   "source": [
    "import pyquasar as pq\n",
    "import matplotlib.pyplot as plt\n",
    "import numpy as np\n",
    "import pyvista as pv\n",
    "\n",
    "np.set_printoptions(precision=3, suppress=True)\n",
    "%config InlineBackend.figure_format='retina'\n",
    "%load_ext line_profiler"
   ]
  },
  {
   "cell_type": "code",
   "execution_count": 3,
   "metadata": {},
   "outputs": [],
   "source": [
    "plt.rcParams.update(\n",
    "  {\n",
    "    \"figure.figsize\": (6, 6),\n",
    "    \"axes.facecolor\": \"none\",\n",
    "    \"font.size\": 10,\n",
    "    \"xtick.labelsize\": 8,\n",
    "    \"ytick.labelsize\": 8,\n",
    "  }\n",
    ")"
   ]
  },
  {
   "cell_type": "code",
   "execution_count": 4,
   "metadata": {},
   "outputs": [
    {
     "data": {
      "text/plain": [
       "<Mesh object summary \n",
       "\tNumeration: global\n",
       "\tDomains: [<MeshDomain object summary\n",
       "\tMaterial: steel\n",
       "\tTotal elements number: 32768\n",
       "\tElement type: Tetrahedron 4; Count: 32768\n",
       "\tBoundary type: dirichlet; Tag: 1; Element type: Triangle 3; Count: 1024.\n",
       "\tBoundary type: neumann; Tag: 2; Element type: Triangle 3; Count: 1024.\n",
       "\tBoundary type: neumann; Tag: 3; Element type: Triangle 3; Count: 1024.\n",
       "\tBoundary type: neumann; Tag: 4; Element type: Triangle 3; Count: 1024.\n",
       ">]>"
      ]
     },
     "execution_count": 4,
     "metadata": {},
     "output_type": "execute_result"
    }
   ],
   "source": [
    "mesh = pq.Mesh.load(\"tetra.geo\", refine_k=5)\n",
    "# mesh = pq.Mesh.load(\"cube.geo\", refine_k=0)\n",
    "mesh"
   ]
  },
  {
   "cell_type": "code",
   "execution_count": 5,
   "metadata": {},
   "outputs": [],
   "source": [
    "def u(p, n):\n",
    "  # return p[..., 0] ** 2 - p[..., 1] ** 2\n",
    "  return 2 * p[..., 0] + 2 * p[..., 1] + 2 * p[..., 2]\n",
    "  return 2 * p[..., 0] + 3 * p[..., 1] + 5 * p[..., 2] - 4\n",
    "\n",
    "\n",
    "def flow(p, n):\n",
    "  # return 2 * p[..., 0] * n[..., 0] - 2 * p[..., 1] * n[..., 1]\n",
    "  return 2 * n[..., 0] + 2 * n[..., 1] + 2 * n[..., 2]\n",
    "  return 2 * n[..., 0] + 3 * n[..., 1] + 5 * n[..., 2]"
   ]
  },
  {
   "cell_type": "code",
   "execution_count": 6,
   "metadata": {},
   "outputs": [
    {
     "name": "stdout",
     "output_type": "stream",
     "text": [
      "Relative error: 4.74e-13\n"
     ]
    }
   ],
   "source": [
    "materials = {\n",
    "  \"dirichlet\": u,\n",
    "  \"steel\": {\"neumann\": flow, \"steel\": 0},\n",
    "  \"air\": {\"neumann\": flow, \"air\": 0},\n",
    "}\n",
    "\n",
    "domains = [pq.FemDomain(domain) for domain in mesh.domains]\n",
    "problem = pq.FemProblem(domains)\n",
    "problem.assembly(materials)\n",
    "# problem.reassembly_load(materials)\n",
    "problem.add_skeleton_projection(u, [\"dirichlet\"])\n",
    "sol = problem.solve()\n",
    "rel_err = np.linalg.norm(sol - u(mesh.domains[0].vertices, 0)) / np.linalg.norm(u(mesh.domains[0].vertices, 0))\n",
    "print(f\"Relative error: {rel_err:.2e}\")"
   ]
  },
  {
   "cell_type": "code",
   "execution_count": 11,
   "metadata": {},
   "outputs": [],
   "source": [
    "problem.factorize()"
   ]
  },
  {
   "cell_type": "code",
   "execution_count": 12,
   "metadata": {},
   "outputs": [
    {
     "data": {
      "text/plain": [
       "3.9748288436905493e-13"
      ]
     },
     "execution_count": 12,
     "metadata": {},
     "output_type": "execute_result"
    }
   ],
   "source": [
    "np.linalg.norm(problem.solve() - u(mesh.domains[0].vertices, 0)) / np.linalg.norm(u(mesh.domains[0].vertices, 0))"
   ]
  },
  {
   "cell_type": "code",
   "execution_count": 7,
   "metadata": {},
   "outputs": [],
   "source": [
    "# points = mesh.domains[0].vertices\n",
    "# cells = np.array([np.insert(element, 0, 4) for element in mesh.domains[0].elements[0].node_tags])\n",
    "# # cells1 = np.array([np.insert(element, 0, 4) for element in mesh.domains[0].elements[0].node_tags])\n",
    "# # cells2 = np.array([np.insert(element, 0, 4) for element in mesh.domains[1].elements[0].node_tags])\n",
    "# # cells = np.concatenate([cells1, cells2])\n",
    "# celltypes = [pv.CellType.TETRA] * cells.shape[0]\n",
    "\n",
    "# pv.set_jupyter_backend(\"trame\")\n",
    "# # pv.set_jupyter_backend(\"static\")\n",
    "\n",
    "# grid = pv.UnstructuredGrid()\n",
    "# grid = pv.UnstructuredGrid(cells, celltypes, points)\n",
    "# grid.point_data[\"u\"] = sol\n",
    "# grid.plot(show_edges=True)"
   ]
  },
  {
   "cell_type": "code",
   "execution_count": 15,
   "metadata": {},
   "outputs": [],
   "source": [
    "points = np.array(\n",
    "  [\n",
    "    [0, 0, 0],\n",
    "    [0.1, 0.1, 0.1],\n",
    "    [0.5, 0, 0],\n",
    "    [0.5, 0, 0.5],\n",
    "    [0, 1.0, 0],\n",
    "    [1.0, 0.0, 0.0],\n",
    "    [0, 0, 1]\n",
    "  ]\n",
    ")"
   ]
  },
  {
   "cell_type": "code",
   "execution_count": 7,
   "metadata": {},
   "outputs": [],
   "source": [
    "proj_grad = problem.project_grad_into(mesh.domains[0].vertices[:100])\n",
    "true_grad_x = proj_grad[0] @ problem.solve()\n",
    "true_grad_y = proj_grad[1] @ problem.solve()\n",
    "true_grad_z = proj_grad[2] @ problem.solve()"
   ]
  },
  {
   "cell_type": "code",
   "execution_count": 22,
   "metadata": {},
   "outputs": [],
   "source": [
    "def func(flow, proj_grad, true_grad_x, true_grad_y, true_grad_z):\n",
    "  problem.reassembly_load(\n",
    "    {\n",
    "      \"dirichlet\": u,\n",
    "      \"steel\": {\"neumann\": flow, \"steel\": 0},\n",
    "      # \"air\": {\"neumann\": flow, \"air\": 0},\n",
    "    }\n",
    "  )\n",
    "  sol = problem.solve()\n",
    "  grad_x = proj_grad[0] @ sol\n",
    "  grad_y = proj_grad[1] @ sol\n",
    "  grad_z = proj_grad[2] @ sol\n",
    "  return np.sum((grad_x - true_grad_x) ** 2) + np.sum((grad_y - true_grad_y) ** 2) + np.sum((grad_z - true_grad_z) ** 2)"
   ]
  },
  {
   "cell_type": "code",
   "execution_count": 23,
   "metadata": {},
   "outputs": [
    {
     "data": {
      "text/plain": [
       "0.0"
      ]
     },
     "execution_count": 23,
     "metadata": {},
     "output_type": "execute_result"
    }
   ],
   "source": [
    "func(flow, proj_grad, true_grad_x, true_grad_y, true_grad_z)"
   ]
  },
  {
   "cell_type": "markdown",
   "metadata": {},
   "source": [
    "$A * x = f$\n",
    "\n",
    "$F * y = f$\n",
    "\n",
    "$P_x * x = grad_x$\n",
    "\n",
    "$P_x * A^{-1} * F * y = grad_x$\n",
    "\n",
    "$M_x = P_x * A^{-1} * F$ - need block multiplication\n",
    "\n",
    "$M = (M_x, M_y, M_z)$\n",
    "\n",
    "$grad = (grad_x, grad_y, grad_z)$\n",
    "\n",
    "$M * y = grad$\n",
    "\n",
    "A shape: (dof, dof)\n",
    "\n",
    "Px, Py, Pz shape: (p, dof)\n",
    "\n",
    "M shape: (3p, dof)\n",
    "\n",
    "F shape: (dof, g)"
   ]
  },
  {
   "cell_type": "markdown",
   "metadata": {},
   "source": [
    "$A^{-1} * F = X => F = AX$ - SLAE\n",
    "\n",
    "for f in F:\n",
    "  x = spsolve(A, f) # f.shape: (dof, 1)\n",
    "  M[i] = P_x @ x\n"
   ]
  },
  {
   "cell_type": "code",
   "execution_count": null,
   "metadata": {},
   "outputs": [],
   "source": []
  }
 ],
 "metadata": {
  "kernelspec": {
   "display_name": "quasar",
   "language": "python",
   "name": "python3"
  },
  "language_info": {
   "codemirror_mode": {
    "name": "ipython",
    "version": 3
   },
   "file_extension": ".py",
   "mimetype": "text/x-python",
   "name": "python",
   "nbconvert_exporter": "python",
   "pygments_lexer": "ipython3",
   "version": "3.11.8"
  }
 },
 "nbformat": 4,
 "nbformat_minor": 2
}
