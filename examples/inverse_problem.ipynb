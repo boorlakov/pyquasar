{
 "cells": [
  {
   "cell_type": "markdown",
   "metadata": {},
   "source": [
    "# Inverse problem of the reconstruction of the Neumann BCs for Laplace's equation"
   ]
  },
  {
   "cell_type": "markdown",
   "metadata": {},
   "source": [
    "__Formulation of Inverse Problem__\n",
    "\n",
    "__Direct Problem__\n",
    "- Equation: $A * x = f$\n",
    "- $A$: Matrix of Direct Problem\n",
    "  - shape: ($\\text{dof}$, $\\text{dof}$)\n",
    "- $x$: Solution of Direct Problem\n",
    "  - shape: ($\\text{dof}$)\n",
    "- $f$: Load Vector of Direct Problem\n",
    "  - shape: ($\\text{dof}$)\n",
    "- $F$: Projection Matrix from Normal Derivative in given points (Mass Matrix over Boundary Elements)\n",
    "  - shape: ($\\text{dof}$, $g$)\n",
    "\n",
    "__Inverse Problem__\n",
    "- Equation: $M * y = \\text{grad}$\n",
    "- $M$: Resulting Matrix of Inverse Problem\n",
    "  - shape: ($3p$, $\\text{dof}$)\n",
    "- $y$: Normal Derivative in Boundary Points\n",
    "- $\\text{grad}$: Concatenation of Grad Vectors ($\\text{grad}_x, \\text{grad}_y, \\text{grad}_z$)\n",
    "\n",
    "__Additional Variables__\n",
    "- $P_x, P_y, P_z$: Projection Matrices from Solution to Partial Derivative\n",
    "  - shape: ($p$, $\\text{dof}$)\n",
    "- $M_x = P_x \\times A^{-1} \\times F$: Need batching with Direct Solvers (spsolve or better factorized to reduce amount of time)\n",
    "  - Note: $A$ is singular, so we need to be careful with solving the system\n",
    "- $M = (M_x, M_y, M_z)$: Concatenation of Inverse Problem Matrices\n",
    "- $\\text{dof}$: Degrees of Freedom of Direct Problem\n",
    "- $p$: Number of Measuring Points\n",
    "- $g$: Number of Boundary Points with Known Normal Derivative (Is it all boundary points?)"
   ]
  },
  {
   "cell_type": "markdown",
   "metadata": {},
   "source": [
    "__About calculating M__\n",
    "\n",
    "Computing $M$ consists of solving a lot of systems of linear equations:\n",
    "\n",
    "$$A^{-1} * F = X$$\n",
    "\n",
    "is same with solving SLAE with matrix rhs:\n",
    "\n",
    "$$AX = F$$\n",
    "\n",
    "Result of this multipication can be a big dense (90% density) matrix so we should solve SLAE with one or several columns form $F$.\n",
    "\n",
    "Probable algorithm for getting $M$ (Under investigation, because it gives big error (e.g. `1e-2` instead of `1e-11`))\n",
    "\n",
    "```python\n",
    "for f in F:\n",
    "\n",
    "  x = spsolve(A, f) # f.shape: (dof, 1)\n",
    "  \n",
    "  Mx[i] = P_x @ x\n",
    "```"
   ]
  },
  {
   "cell_type": "markdown",
   "metadata": {},
   "source": [
    "__Questions__\n",
    "\n",
    "1. How to deal with $A$ is singular? It affects calculation of $M$.\n",
    "\n",
    "2. How to assemble $F$, if we have rhs (source) in direct problem? (If equation is not Laplace's)"
   ]
  },
  {
   "cell_type": "markdown",
   "metadata": {},
   "source": [
    "## Preprocessing"
   ]
  },
  {
   "cell_type": "markdown",
   "metadata": {},
   "source": [
    "Import the required libraries"
   ]
  },
  {
   "cell_type": "code",
   "execution_count": 1,
   "metadata": {},
   "outputs": [],
   "source": [
    "import numpy as np\n",
    "import scipy as sp\n",
    "import cupy as cp\n",
    "import cupy.sparse.linalg as cpsl\n",
    "\n",
    "from tqdm import tqdm\n",
    "\n",
    "import pyquasar as pq\n",
    "\n",
    "np.set_printoptions(precision=3, suppress=False)"
   ]
  },
  {
   "cell_type": "markdown",
   "metadata": {},
   "source": [
    "Load the `.geo` file and generate the mesh for the problem using GMSH.\n",
    "\n",
    "`refine_k` is the number of times the mesh is refined."
   ]
  },
  {
   "cell_type": "code",
   "execution_count": 41,
   "metadata": {},
   "outputs": [
    {
     "data": {
      "text/plain": [
       "<Mesh object summary \n",
       "\tNumeration: global\n",
       "\tDomains: [<MeshDomain object summary\n",
       "\tMaterial: air\n",
       "\tTotal elements number: 10752\n",
       "\tElement type: Tetrahedron 10 NC; Count: 10752\n",
       "\tBoundary type: neumann; Tag: 4; Element type: Triangle 6 NC; Count: 2048.\n",
       "\tBoundary type: neumann; Tag: 5; Element type: Triangle 6 NC; Count: 224.\n",
       "\tBoundary type: neumann; Tag: 6; Element type: Triangle 6 NC; Count: 224.\n",
       ">]>"
      ]
     },
     "execution_count": 41,
     "metadata": {},
     "output_type": "execute_result"
    }
   ],
   "source": [
    "mesh = pq.Mesh.load(\"circle_splitted.msh\", use_quadratic=True, refine_k=0)\n",
    "mesh"
   ]
  },
  {
   "cell_type": "code",
   "execution_count": 42,
   "metadata": {},
   "outputs": [],
   "source": [
    "mesh.domains[0].vertices[..., 2] = mesh.domains[0].vertices[..., 2] + 1.6"
   ]
  },
  {
   "cell_type": "code",
   "execution_count": 43,
   "metadata": {},
   "outputs": [
    {
     "data": {
      "text/plain": [
       "0.0"
      ]
     },
     "execution_count": 43,
     "metadata": {},
     "output_type": "execute_result"
    }
   ],
   "source": [
    "mesh.domains[0].vertices[..., 2].min()"
   ]
  },
  {
   "cell_type": "markdown",
   "metadata": {},
   "source": [
    "## Direct Problem"
   ]
  },
  {
   "cell_type": "markdown",
   "metadata": {},
   "source": [
    "Assemble & solve the direct problem to obtain problem matrix, load vector and the solution `u`.\n",
    "\n",
    "Note that mesh consists of only Neumann boundary conditions and therefore the solution `u` is need to be orthogonalized."
   ]
  },
  {
   "cell_type": "code",
   "execution_count": 44,
   "metadata": {},
   "outputs": [
    {
     "name": "stdout",
     "output_type": "stream",
     "text": [
      "DOF: 16929\n"
     ]
    }
   ],
   "source": [
    "# Define the materials dictionary\n",
    "materials = {\n",
    "  \"air\": {\"air\": 0},\n",
    "}\n",
    "\n",
    "# Create a list of FemDomain objects from the mesh domains\n",
    "domains = [pq.FemDomain(domain) for domain in mesh.domains]\n",
    "\n",
    "# Create a FemProblem object with the domains\n",
    "problem = pq.FemProblem(domains)\n",
    "\n",
    "# Assemble the problem using the materials dictionary\n",
    "problem.assembly(materials)\n",
    "\n",
    "# Print the degree of freedom count\n",
    "print(f\"DOF: {problem.dof_count}\")\n",
    "\n",
    "problem._matrix = problem._matrix.tocsr()\n",
    "problem.matrix.data[problem.matrix.indptr[-2] : problem.matrix.indptr[-1]] = 0\n",
    "problem._matrix = problem._matrix.tocsc()\n",
    "problem.matrix.data[problem.matrix.indptr[-2] : problem.matrix.indptr[-1]] = 0\n",
    "problem._matrix[-1, -1] = 1\n",
    "problem._matrix.eliminate_zeros()"
   ]
  },
  {
   "cell_type": "markdown",
   "metadata": {},
   "source": [
    "## Inverse Problem"
   ]
  },
  {
   "cell_type": "markdown",
   "metadata": {},
   "source": [
    "Get points of interest"
   ]
  },
  {
   "cell_type": "code",
   "execution_count": 45,
   "metadata": {},
   "outputs": [],
   "source": [
    "data = np.load(\"data/data.npz\")\n",
    "xs = data[\"xs\"]\n",
    "ys = data[\"ys\"]\n",
    "zs = data[\"zs\"]\n",
    "grad_x = data[\"grad_x\"]\n",
    "grad_y = data[\"grad_y\"]\n",
    "grad_z = data[\"grad_z\"]\n",
    "data.close()"
   ]
  },
  {
   "cell_type": "code",
   "execution_count": 46,
   "metadata": {},
   "outputs": [
    {
     "data": {
      "text/plain": [
       "(7200, 3)"
      ]
     },
     "execution_count": 46,
     "metadata": {},
     "output_type": "execute_result"
    }
   ],
   "source": [
    "pts = np.concatenate([xs[:7200, None], ys[:7200, None], zs[:7200, None]], axis=1)\n",
    "pts.shape"
   ]
  },
  {
   "cell_type": "markdown",
   "metadata": {},
   "source": [
    "Project the solution gradient into the points of interest"
   ]
  },
  {
   "cell_type": "code",
   "execution_count": 47,
   "metadata": {},
   "outputs": [
    {
     "name": "stderr",
     "output_type": "stream",
     "text": [
      "100%|██████████| 57/57 [00:02<00:00, 25.76it/s]\n"
     ]
    }
   ],
   "source": [
    "proj_grad = problem.project_grad_into(pts, batch_size=128)"
   ]
  },
  {
   "cell_type": "code",
   "execution_count": 48,
   "metadata": {},
   "outputs": [],
   "source": [
    "grad = np.concatenate([grad_x[:7200], grad_y[:7200], grad_z[:7200]])"
   ]
  },
  {
   "cell_type": "markdown",
   "metadata": {},
   "source": [
    "Get the Mass matrix over the Neumann type boundary"
   ]
  },
  {
   "cell_type": "code",
   "execution_count": 49,
   "metadata": {},
   "outputs": [],
   "source": [
    "# POSSIBLE CHECK: F[:boundary_ids.max(),]^-1 @ load -> best approximation of the flow\n",
    "F = problem.mass_boundary([\"neumann\"])"
   ]
  },
  {
   "cell_type": "code",
   "execution_count": 50,
   "metadata": {},
   "outputs": [],
   "source": [
    "F_cp = cp.sparse.csc_matrix(F)"
   ]
  },
  {
   "cell_type": "markdown",
   "metadata": {},
   "source": [
    "Initialize the inverse problem matrix"
   ]
  },
  {
   "cell_type": "code",
   "execution_count": 51,
   "metadata": {},
   "outputs": [],
   "source": [
    "m_shape = pts.shape[0], F.shape[1]\n",
    "Mx = np.zeros(m_shape)\n",
    "My = np.zeros(m_shape)\n",
    "Mz = np.zeros(m_shape)"
   ]
  },
  {
   "cell_type": "code",
   "execution_count": 52,
   "metadata": {},
   "outputs": [],
   "source": [
    "Mx_cp = cp.array(Mx)\n",
    "My_cp = cp.array(My)\n",
    "Mz_cp = cp.array(Mz)"
   ]
  },
  {
   "cell_type": "markdown",
   "metadata": {},
   "source": [
    "Get factorization of direct problem matrix"
   ]
  },
  {
   "cell_type": "code",
   "execution_count": 53,
   "metadata": {},
   "outputs": [],
   "source": [
    "sp.sparse.linalg.use_solver(useUmfpack = False)"
   ]
  },
  {
   "cell_type": "code",
   "execution_count": 54,
   "metadata": {},
   "outputs": [],
   "source": [
    "# direct_problem_solve = sp.sparse.linalg.factorized(problem.matrix)"
   ]
  },
  {
   "cell_type": "code",
   "execution_count": 55,
   "metadata": {},
   "outputs": [],
   "source": [
    "direct_problem_solve_cp = cp.sparse.linalg.factorized(cp.sparse.csc_matrix(problem.matrix))"
   ]
  },
  {
   "cell_type": "markdown",
   "metadata": {},
   "source": [
    "Iteratively calculate the inverse problem matrix"
   ]
  },
  {
   "cell_type": "code",
   "execution_count": 17,
   "metadata": {},
   "outputs": [],
   "source": [
    "# for i, f in tqdm(enumerate(F.T), total=F.shape[1]):\n",
    "#   sol = direct_problem_solve(f.T.toarray().ravel())\n",
    "\n",
    "#   Mx[:, i] = (proj_grad[0] @ sol).ravel()\n",
    "#   My[:, i] = (proj_grad[1] @ sol).ravel()\n",
    "#   Mz[:, i] = (proj_grad[2] @ sol).ravel()\n",
    "\n",
    "# M = np.concatenate([Mx, My, Mz])"
   ]
  },
  {
   "cell_type": "code",
   "execution_count": 56,
   "metadata": {},
   "outputs": [],
   "source": [
    "proj_grad_cp = (cp.sparse.csr_matrix(proj_grad[0]), cp.sparse.csr_matrix(proj_grad[1]), cp.sparse.csr_matrix(proj_grad[2]))"
   ]
  },
  {
   "cell_type": "code",
   "execution_count": 57,
   "metadata": {},
   "outputs": [
    {
     "name": "stderr",
     "output_type": "stream",
     "text": [
      "100%|██████████| 4994/4994 [01:25<00:00, 58.31it/s]\n"
     ]
    }
   ],
   "source": [
    "for i, f in tqdm(enumerate(F.T), total=F.shape[1]):\n",
    "  sol = direct_problem_solve_cp(cp.array(f.T.toarray().ravel()))\n",
    "\n",
    "  Mx_cp[:, i] = (proj_grad_cp[0] @ sol).ravel()\n",
    "  My_cp[:, i] = (proj_grad_cp[1] @ sol).ravel()\n",
    "  Mz_cp[:, i] = (proj_grad_cp[2] @ sol).ravel()\n",
    "\n",
    "M_cp = cp.concatenate([Mx_cp, My_cp, Mz_cp])"
   ]
  },
  {
   "cell_type": "code",
   "execution_count": 58,
   "metadata": {},
   "outputs": [],
   "source": [
    "# M_cp = cp.load(\"M_refined_circle_splitted.npy\")"
   ]
  },
  {
   "cell_type": "code",
   "execution_count": 59,
   "metadata": {},
   "outputs": [],
   "source": [
    "grad_cp = cp.array(grad)"
   ]
  },
  {
   "cell_type": "code",
   "execution_count": 21,
   "metadata": {},
   "outputs": [],
   "source": [
    "# M_cp = cp.array(M)"
   ]
  },
  {
   "cell_type": "markdown",
   "metadata": {},
   "source": [
    "Iteratively calculate the inverse problem solution"
   ]
  },
  {
   "cell_type": "code",
   "execution_count": 81,
   "metadata": {},
   "outputs": [
    {
     "name": "stdout",
     "output_type": "stream",
     "text": [
      "The reason of stopping: 7\n",
      "Number of iterations: 80000\n",
      "Norm of the residual: 3.54e-01\n",
      "Norm of modified residual: 5.09e-07\n",
      "Relative error of inverse problem solution (M @ y = grad): 1.91e-03\n"
     ]
    }
   ],
   "source": [
    "res_flow, istop, itn, normr, normar = cpsl.lsmr(M_cp, grad_cp, atol=1e-15, btol=1e-15, maxiter=80000)[:5]\n",
    "\n",
    "rerr = cp.linalg.norm(M_cp @ res_flow - grad_cp) / np.linalg.norm(grad_cp)\n",
    "\n",
    "print(f\"The reason of stopping: {istop}\")\n",
    "print(f\"Number of iterations: {itn}\")\n",
    "print(f\"Norm of the residual: {normr:.2e}\")\n",
    "print(f\"Norm of modified residual: {normar:.2e}\")\n",
    "print(f\"Relative error of inverse problem solution (M @ y = grad): {rerr:.2e}\")"
   ]
  },
  {
   "cell_type": "code",
   "execution_count": 23,
   "metadata": {},
   "outputs": [],
   "source": [
    "# M_pinv_cp = cp.linalg.pinv(M_cp, rcond=1e-11)\n",
    "# res_flow_cp = M_pinv_cp @ grad_cp\n",
    "\n",
    "# normr_pinv = cp.linalg.norm(M_cp @ res_flow_cp - grad_cp) / cp.linalg.norm(grad_cp)\n",
    "# normar_pinv = cp.linalg.norm(M_cp.T @ M_cp @ res_flow_cp - M_cp.T @ grad_cp) / cp.linalg.norm(M_cp.T @ grad_cp)\n",
    "# print(f\"Norm of modified residual: {normar_pinv:.2e}\")\n",
    "# print(f\"Norm of residual (M @ y = grad): {normr_pinv:.2e}\")"
   ]
  },
  {
   "cell_type": "code",
   "execution_count": 82,
   "metadata": {},
   "outputs": [],
   "source": [
    "res_flow = cp.asnumpy(res_flow)"
   ]
  },
  {
   "cell_type": "markdown",
   "metadata": {},
   "source": [
    "Test through direct problem"
   ]
  },
  {
   "cell_type": "code",
   "execution_count": 83,
   "metadata": {},
   "outputs": [
    {
     "name": "stdout",
     "output_type": "stream",
     "text": [
      "DOF: 16929\n"
     ]
    }
   ],
   "source": [
    "mat_dict = {\n",
    "  \"air\": {\"air\": 0},\n",
    "}\n",
    "\n",
    "test_problem = pq.FemProblem(domains)\n",
    "\n",
    "# Assemble the problem using the materials dictionary\n",
    "test_problem.assembly(mat_dict)\n",
    "\n",
    "# Print the degree of freedom count\n",
    "print(f\"DOF: {test_problem.dof_count}\")\n",
    "\n",
    "test_problem._matrix = test_problem._matrix.tocsr()\n",
    "test_problem.matrix.data[test_problem.matrix.indptr[-2] : test_problem.matrix.indptr[-1]] = 0\n",
    "test_problem._matrix = test_problem._matrix.tocsc()\n",
    "test_problem.matrix.data[test_problem.matrix.indptr[-2] : test_problem.matrix.indptr[-1]] = 0\n",
    "test_problem._matrix[-1, -1] = 1\n",
    "test_problem._matrix.eliminate_zeros()\n",
    "\n",
    "# Get the kernel for Gram-Schmidt orthogonalization\n",
    "kernel = test_problem.domains[0].kernel\n",
    "\n",
    "test_problem._load_vector += F @ res_flow\n",
    "\n",
    "# Solve the problem\n",
    "test_sol = test_problem.solve(atol=1e-15)\n",
    "\n",
    "# Perform the Gram-Schmidt orthogonalization\n",
    "test_sol -= kernel[0] * (test_sol @ kernel[0]) / (kernel[0] @ kernel[0])"
   ]
  },
  {
   "cell_type": "code",
   "execution_count": 63,
   "metadata": {},
   "outputs": [],
   "source": [
    "test_pts = np.concatenate([xs[7200:, None], ys[7200:, None], zs[7200:, None]], axis=1)"
   ]
  },
  {
   "cell_type": "code",
   "execution_count": 64,
   "metadata": {},
   "outputs": [],
   "source": [
    "test_true_grad = np.concatenate([grad_x[7200:], grad_y[7200:], grad_z[7200:]])"
   ]
  },
  {
   "cell_type": "code",
   "execution_count": 65,
   "metadata": {},
   "outputs": [
    {
     "name": "stderr",
     "output_type": "stream",
     "text": [
      "100%|██████████| 1145/1145 [00:44<00:00, 25.76it/s]\n"
     ]
    }
   ],
   "source": [
    "test_proj_grad = test_problem.project_grad_into(test_pts, batch_size=128)"
   ]
  },
  {
   "cell_type": "code",
   "execution_count": 84,
   "metadata": {},
   "outputs": [],
   "source": [
    "test_grad_x = test_proj_grad[0] @ test_sol\n",
    "test_grad_y = test_proj_grad[1] @ test_sol\n",
    "test_grad_z = test_proj_grad[2] @ test_sol\n",
    "\n",
    "test_grad = np.concatenate([test_grad_x, test_grad_y, test_grad_z])"
   ]
  },
  {
   "cell_type": "code",
   "execution_count": 85,
   "metadata": {},
   "outputs": [
    {
     "data": {
      "text/plain": [
       "0.5664542467655315"
      ]
     },
     "execution_count": 85,
     "metadata": {},
     "output_type": "execute_result"
    }
   ],
   "source": [
    "np.linalg.norm(test_grad - test_true_grad) / np.linalg.norm(test_true_grad)"
   ]
  },
  {
   "cell_type": "code",
   "execution_count": 86,
   "metadata": {},
   "outputs": [
    {
     "data": {
      "text/plain": [
       "0.08076765971892326"
      ]
     },
     "execution_count": 86,
     "metadata": {},
     "output_type": "execute_result"
    }
   ],
   "source": [
    "np.abs(test_grad - test_true_grad).mean()"
   ]
  },
  {
   "cell_type": "code",
   "execution_count": null,
   "metadata": {},
   "outputs": [],
   "source": []
  }
 ],
 "metadata": {
  "kernelspec": {
   "display_name": "quasar",
   "language": "python",
   "name": "python3"
  },
  "language_info": {
   "codemirror_mode": {
    "name": "ipython",
    "version": 3
   },
   "file_extension": ".py",
   "mimetype": "text/x-python",
   "name": "python",
   "nbconvert_exporter": "python",
   "pygments_lexer": "ipython3",
   "version": "3.11.8"
  }
 },
 "nbformat": 4,
 "nbformat_minor": 2
}
