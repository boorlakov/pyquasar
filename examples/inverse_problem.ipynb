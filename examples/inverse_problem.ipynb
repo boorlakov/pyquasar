{
 "cells": [
  {
   "cell_type": "markdown",
   "metadata": {},
   "source": [
    "# Inverse problem of the reconstruction of the Neumann BCs for Laplace's equation"
   ]
  },
  {
   "cell_type": "markdown",
   "metadata": {},
   "source": [
    "__Formulation of Inverse Problem__\n",
    "\n",
    "__Direct Problem__\n",
    "- Equation: $A * x = f$\n",
    "- $A$: Matrix of Direct Problem\n",
    "  - shape: ($\\text{dof}$, $\\text{dof}$)\n",
    "- $x$: Solution of Direct Problem\n",
    "  - shape: ($\\text{dof}$)\n",
    "- $f$: Load Vector of Direct Problem\n",
    "  - shape: ($\\text{dof}$)\n",
    "- $F$: Projection Matrix from Normal Derivative in given points (Mass Matrix over Boundary Elements)\n",
    "  - shape: ($\\text{dof}$, $g$)\n",
    "\n",
    "__Inverse Problem__\n",
    "- Equation: $M * y = \\text{grad}$\n",
    "- $M$: Resulting Matrix of Inverse Problem\n",
    "  - shape: ($3p$, $\\text{dof}$)\n",
    "- $y$: Normal Derivative in Boundary Points\n",
    "- $\\text{grad}$: Concatenation of Grad Vectors ($\\text{grad}_x, \\text{grad}_y, \\text{grad}_z$)\n",
    "\n",
    "__Additional Variables__\n",
    "- $P_x, P_y, P_z$: Projection Matrices from Solution to Partial Derivative\n",
    "  - shape: ($p$, $\\text{dof}$)\n",
    "- $M_x = P_x \\times A^{-1} \\times F$: Need batching with Direct Solvers (spsolve or better factorized to reduce amount of time)\n",
    "  - Note: $A$ is singular, so we need to be careful with solving the system\n",
    "- $M = (M_x, M_y, M_z)$: Concatenation of Inverse Problem Matrices\n",
    "- $\\text{dof}$: Degrees of Freedom of Direct Problem\n",
    "- $p$: Number of Measuring Points\n",
    "- $g$: Number of Boundary Points with Known Normal Derivative (Is it all boundary points?)"
   ]
  },
  {
   "cell_type": "markdown",
   "metadata": {},
   "source": [
    "__About calculating M__\n",
    "\n",
    "Computing $M$ consists of solving a lot of systems of linear equations:\n",
    "\n",
    "$$A^{-1} * F = X$$\n",
    "\n",
    "is same with solving SLAE with matrix rhs:\n",
    "\n",
    "$$AX = F$$\n",
    "\n",
    "Result of this multipication can be a big dense (90% density) matrix so we should solve SLAE with one or several columns form $F$.\n",
    "\n",
    "Probable algorithm for getting $M$ (Under investigation, because it gives big error (e.g. `1e-2` instead of `1e-11`))\n",
    "\n",
    "```python\n",
    "for f in F:\n",
    "\n",
    "  x = spsolve(A, f) # f.shape: (dof, 1)\n",
    "  \n",
    "  Mx[i] = P_x @ x\n",
    "```"
   ]
  },
  {
   "cell_type": "markdown",
   "metadata": {},
   "source": [
    "__Questions__\n",
    "\n",
    "1. How to deal with $A$ is singular? It affects calculation of $M$.\n",
    "\n",
    "2. How to assemble $F$, if we have rhs (source) in direct problem? (If equation is not Laplace's)"
   ]
  },
  {
   "cell_type": "markdown",
   "metadata": {},
   "source": [
    "## Preprocessing"
   ]
  },
  {
   "cell_type": "markdown",
   "metadata": {},
   "source": [
    "Import the required libraries"
   ]
  },
  {
   "cell_type": "code",
   "execution_count": 1,
   "metadata": {},
   "outputs": [],
   "source": [
    "import numpy as np\n",
    "import scipy as sp\n",
    "\n",
    "from tqdm import tqdm\n",
    "\n",
    "import pyquasar as pq\n",
    "\n",
    "np.set_printoptions(precision=3, suppress=False)"
   ]
  },
  {
   "cell_type": "markdown",
   "metadata": {},
   "source": [
    "Load the `.geo` file and generate the mesh for the problem using GMSH.\n",
    "\n",
    "`refine_k` is the number of times the mesh is refined."
   ]
  },
  {
   "cell_type": "code",
   "execution_count": 2,
   "metadata": {},
   "outputs": [
    {
     "data": {
      "text/plain": [
       "<Mesh object summary \n",
       "\tNumeration: global\n",
       "\tDomains: [<MeshDomain object summary\n",
       "\tMaterial: steel\n",
       "\tTotal elements number: 32768\n",
       "\tElement type: Tetrahedron 4; Count: 32768\n",
       "\tBoundary type: neumann; Tag: 1; Element type: Triangle 3; Count: 1024.\n",
       "\tBoundary type: neumann; Tag: 2; Element type: Triangle 3; Count: 1024.\n",
       "\tBoundary type: neumann; Tag: 3; Element type: Triangle 3; Count: 1024.\n",
       "\tBoundary type: neumann; Tag: 4; Element type: Triangle 3; Count: 1024.\n",
       ">]>"
      ]
     },
     "execution_count": 2,
     "metadata": {},
     "output_type": "execute_result"
    }
   ],
   "source": [
    "mesh = pq.Mesh.load(\"tetra.geo\", refine_k=5)\n",
    "mesh"
   ]
  },
  {
   "cell_type": "markdown",
   "metadata": {},
   "source": [
    "Define boundary conditions and the source term (if necessary)."
   ]
  },
  {
   "cell_type": "code",
   "execution_count": 3,
   "metadata": {},
   "outputs": [],
   "source": [
    "# Dirichlet boundary conditions\n",
    "def u(p, n):\n",
    "  # return p[..., 0] ** 2 - p[..., 1] ** 2\n",
    "  return 2 * p[..., 0] + 2 * p[..., 1] + 2 * p[..., 2]\n",
    "  return 2 * p[..., 0] + 3 * p[..., 1] + 5 * p[..., 2] - 4\n",
    "\n",
    "\n",
    "# Neumann boundary conditions\n",
    "def flow(p, n):\n",
    "  # return 2 * p[..., 0] * n[..., 0] - 2 * p[..., 1] * n[..., 1]\n",
    "  return 2 * n[..., 0] + 2 * n[..., 1] + 2 * n[..., 2]\n",
    "  return 2 * n[..., 0] + 3 * n[..., 1] + 5 * n[..., 2]"
   ]
  },
  {
   "cell_type": "markdown",
   "metadata": {},
   "source": [
    "## Direct Problem"
   ]
  },
  {
   "cell_type": "markdown",
   "metadata": {},
   "source": [
    "Assemble & solve the direct problem to obtain problem matrix, load vector and the solution `u`.\n",
    "\n",
    "Note that mesh consists of only Neumann boundary conditions and therefore the solution `u` is need to be orthogonalized."
   ]
  },
  {
   "cell_type": "code",
   "execution_count": 4,
   "metadata": {},
   "outputs": [
    {
     "name": "stdout",
     "output_type": "stream",
     "text": [
      "DOF: 6545\n",
      "Relative error of direct problem solution: 9.91e-15\n"
     ]
    }
   ],
   "source": [
    "# Define the materials dictionary\n",
    "materials = {\n",
    "  \"steel\": {\"neumann\": flow, \"steel\": 0},\n",
    "  \"air\": {\"neumann\": flow, \"air\": 0},\n",
    "}\n",
    "\n",
    "# Create a list of FemDomain objects from the mesh domains\n",
    "domains = [pq.FemDomain(domain) for domain in mesh.domains]\n",
    "\n",
    "# Create a FemProblem object with the domains\n",
    "problem = pq.FemProblem(domains)\n",
    "\n",
    "# Assemble the problem using the materials dictionary\n",
    "problem.assembly(materials)\n",
    "\n",
    "# Print the degree of freedom count\n",
    "print(f\"DOF: {problem.dof_count}\")\n",
    "\n",
    "problem._matrix = problem._matrix.tocsr()\n",
    "problem.matrix.data[problem.matrix.indptr[-2] : problem.matrix.indptr[-1]] = 0\n",
    "problem._matrix = problem._matrix.tocsc()\n",
    "problem.matrix.data[problem.matrix.indptr[-2] : problem.matrix.indptr[-1]] = 0\n",
    "problem._matrix[-1, -1] = 1\n",
    "problem._matrix.eliminate_zeros()\n",
    "\n",
    "# Get the kernel for Gram-Schmidt orthogonalization\n",
    "kernel = problem.domains[0].kernel\n",
    "\n",
    "# Solve the problem\n",
    "sol = problem.solve(atol=1e-15)\n",
    "\n",
    "# Perform the Gram-Schmidt orthogonalization\n",
    "sol -= kernel[0] * (sol @ kernel[0]) / (kernel[0] @ kernel[0])\n",
    "\n",
    "# Calculate the orthogonal solution\n",
    "u_ort = u(mesh.domains[0].vertices, 0) - kernel[0] * (u(mesh.domains[0].vertices, 0) @ kernel[0]) / (kernel[0] @ kernel[0])\n",
    "\n",
    "# Calculate the relative error\n",
    "rel_err = np.linalg.norm(sol - u_ort) / np.linalg.norm(u_ort)\n",
    "\n",
    "print(f\"Relative error of direct problem solution: {rel_err:.2e}\")"
   ]
  },
  {
   "cell_type": "markdown",
   "metadata": {},
   "source": [
    "## Inverse Problem"
   ]
  },
  {
   "cell_type": "markdown",
   "metadata": {},
   "source": [
    "Get points of interest"
   ]
  },
  {
   "cell_type": "code",
   "execution_count": 5,
   "metadata": {},
   "outputs": [
    {
     "data": {
      "text/plain": [
       "(2050, 3)"
      ]
     },
     "execution_count": 5,
     "metadata": {},
     "output_type": "execute_result"
    }
   ],
   "source": [
    "pts = problem.domains[0].vertices[2050:4100]\n",
    "pts.shape"
   ]
  },
  {
   "cell_type": "markdown",
   "metadata": {},
   "source": [
    "Project the solution gradient into the points of interest"
   ]
  },
  {
   "cell_type": "code",
   "execution_count": 6,
   "metadata": {},
   "outputs": [
    {
     "name": "stderr",
     "output_type": "stream",
     "text": [
      "100%|██████████| 17/17 [00:05<00:00,  3.11it/s]\n"
     ]
    }
   ],
   "source": [
    "proj_grad = problem.project_grad_into(pts, batch_size=128)\n",
    "\n",
    "grad_x = proj_grad[0] @ sol\n",
    "grad_y = proj_grad[1] @ sol\n",
    "grad_z = proj_grad[2] @ sol\n",
    "\n",
    "grad = np.concatenate([grad_x, grad_y, grad_z])"
   ]
  },
  {
   "cell_type": "markdown",
   "metadata": {},
   "source": [
    "Add some noize to grad"
   ]
  },
  {
   "cell_type": "code",
   "execution_count": 7,
   "metadata": {},
   "outputs": [
    {
     "data": {
      "text/plain": [
       "1.420450667753731e-14"
      ]
     },
     "execution_count": 7,
     "metadata": {},
     "output_type": "execute_result"
    }
   ],
   "source": [
    "np.linalg.norm(grad - 2) / np.linalg.norm(2 * np.ones_like(grad))"
   ]
  },
  {
   "cell_type": "code",
   "execution_count": 8,
   "metadata": {},
   "outputs": [
    {
     "data": {
      "text/plain": [
       "8.007804917810592e-10"
      ]
     },
     "execution_count": 8,
     "metadata": {},
     "output_type": "execute_result"
    }
   ],
   "source": [
    "noize = np.random.normal(0, 1e-11, grad.shape)\n",
    "grad += noize * grad\n",
    "np.mean(np.abs(noize * 100))"
   ]
  },
  {
   "cell_type": "code",
   "execution_count": 9,
   "metadata": {},
   "outputs": [
    {
     "data": {
      "text/plain": [
       "1.0069876834991545e-11"
      ]
     },
     "execution_count": 9,
     "metadata": {},
     "output_type": "execute_result"
    }
   ],
   "source": [
    "np.linalg.norm(grad - 2) / np.linalg.norm(2 * np.ones_like(grad))"
   ]
  },
  {
   "cell_type": "markdown",
   "metadata": {},
   "source": [
    "Get the Mass matrix over the Neumann type boundary"
   ]
  },
  {
   "cell_type": "code",
   "execution_count": 10,
   "metadata": {},
   "outputs": [],
   "source": [
    "# POSSIBLE CHECK: F[:boundary_ids.max(),]^-1 @ load -> best approximation of the flow\n",
    "F = problem.mass_boundary([\"neumann\"])"
   ]
  },
  {
   "cell_type": "markdown",
   "metadata": {},
   "source": [
    "Initialize the inverse problem matrix"
   ]
  },
  {
   "cell_type": "code",
   "execution_count": 11,
   "metadata": {},
   "outputs": [],
   "source": [
    "m_shape = pts.shape[0], F.shape[1]\n",
    "Mx = np.zeros(m_shape)\n",
    "My = np.zeros(m_shape)\n",
    "Mz = np.zeros(m_shape)"
   ]
  },
  {
   "cell_type": "markdown",
   "metadata": {},
   "source": [
    "Get factorization of direct problem matrix"
   ]
  },
  {
   "cell_type": "code",
   "execution_count": 12,
   "metadata": {},
   "outputs": [],
   "source": [
    "sp.sparse.linalg.use_solver(useUmfpack = False)"
   ]
  },
  {
   "cell_type": "code",
   "execution_count": 13,
   "metadata": {},
   "outputs": [],
   "source": [
    "direct_problem_solve = sp.sparse.linalg.factorized(problem.matrix)"
   ]
  },
  {
   "cell_type": "markdown",
   "metadata": {},
   "source": [
    "Directly calculate the inverse problem matrix"
   ]
  },
  {
   "cell_type": "code",
   "execution_count": 14,
   "metadata": {},
   "outputs": [],
   "source": [
    "# NOTE: This is not the best way to do it, but it is the most accurate in small problems\n",
    "# pinv = np.linalg.inv(problem.matrix.toarray())\n",
    "# Mx = proj_grad[0] @ pinv @ F\n",
    "# My = proj_grad[1] @ pinv @ F\n",
    "# Mz = proj_grad[2] @ pinv @ F\n",
    "\n",
    "# M = np.concatenate([Mx, My, Mz])"
   ]
  },
  {
   "cell_type": "markdown",
   "metadata": {},
   "source": [
    "Iteratively calculate the inverse problem matrix"
   ]
  },
  {
   "cell_type": "code",
   "execution_count": 15,
   "metadata": {},
   "outputs": [
    {
     "name": "stderr",
     "output_type": "stream",
     "text": [
      "100%|██████████| 2050/2050 [00:15<00:00, 136.51it/s]\n"
     ]
    }
   ],
   "source": [
    "# NOTE: This outputs bad approximations of the flow (4% instead of 1e-9%)\n",
    "\n",
    "# batch_size = 512\n",
    "# num_batches = F.shape[1] // batch_size + 1\n",
    "\n",
    "# for i in tqdm(range(num_batches)):\n",
    "#   start = i * batch_size\n",
    "#   end = min((i + 1) * batch_size, F.shape[1])\n",
    "\n",
    "#   rhs = F[:, start:end]\n",
    "#   sol = lu.solve(rhs.toarray())\n",
    "\n",
    "#   Mx[:, start:end] = (proj_grad[0] @ sol)\n",
    "#   My[:, start:end] = (proj_grad[1] @ sol)\n",
    "#   Mz[:, start:end] = (proj_grad[2] @ sol)\n",
    "\n",
    "for i, f in tqdm(enumerate(F.T), total=F.shape[1]):\n",
    "  sol = direct_problem_solve(f.T.toarray().ravel())\n",
    "\n",
    "  Mx[:, i] = (proj_grad[0] @ sol).ravel()\n",
    "  My[:, i] = (proj_grad[1] @ sol).ravel()\n",
    "  Mz[:, i] = (proj_grad[2] @ sol).ravel()\n",
    "\n",
    "# Mx = Mx.toarray()\n",
    "# My = My.toarray()\n",
    "# Mz = Mz.toarray()\n",
    "\n",
    "M = np.concatenate([Mx, My, Mz])"
   ]
  },
  {
   "cell_type": "markdown",
   "metadata": {},
   "source": [
    "Direct solution of the inverse problem"
   ]
  },
  {
   "cell_type": "code",
   "execution_count": 16,
   "metadata": {},
   "outputs": [],
   "source": [
    "# res = np.linalg.pinv(M.T @ M) @ M.T @ grad\n",
    "# rhs = F @ res\n",
    "# rerr = np.linalg.norm(M @ res - grad) / np.linalg.norm(grad)\n",
    "# print(f\"Relative error of inverse exact problem solution (M @ y = grad check): {rerr:.2e}\")"
   ]
  },
  {
   "cell_type": "markdown",
   "metadata": {},
   "source": [
    "Iteratively calculate the inverse problem solution"
   ]
  },
  {
   "cell_type": "code",
   "execution_count": 17,
   "metadata": {},
   "outputs": [
    {
     "name": "stdout",
     "output_type": "stream",
     "text": [
      "Norm of the residual: 4.58e-03\n",
      "Relative error of inverse problem solution (M @ y = grad): 2.92e-05\n"
     ]
    }
   ],
   "source": [
    "res_flow, istop, itn, normr = sp.sparse.linalg.lsmr(M, grad, atol=1e-15, btol=1e-15)[:4]\n",
    "\n",
    "rhs = F @ res_flow\n",
    "rerr = np.linalg.norm(M @ res_flow - grad) / np.linalg.norm(grad)\n",
    "\n",
    "print(f\"Norm of the residual: {normr:.2e}\")\n",
    "print(f\"Relative error of inverse problem solution (M @ y = grad): {rerr:.2e}\")"
   ]
  },
  {
   "cell_type": "markdown",
   "metadata": {},
   "source": [
    "Test the solution"
   ]
  },
  {
   "cell_type": "code",
   "execution_count": 18,
   "metadata": {},
   "outputs": [
    {
     "name": "stdout",
     "output_type": "stream",
     "text": [
      "Absolute error (rhs must be near load_vector): 2.72e-02\n",
      "Relative error (rhs must be near load_vector): 1.83e-01\n"
     ]
    }
   ],
   "source": [
    "aerr = np.linalg.norm(rhs - problem.load_vector)\n",
    "rerr = aerr / np.linalg.norm(problem.load_vector)\n",
    "print(f\"Absolute error (rhs must be near load_vector): {aerr:.2e}\")\n",
    "print(f\"Relative error (rhs must be near load_vector): {rerr:.2e}\")"
   ]
  },
  {
   "cell_type": "markdown",
   "metadata": {},
   "source": [
    "Test through direct problem"
   ]
  },
  {
   "cell_type": "code",
   "execution_count": 19,
   "metadata": {},
   "outputs": [
    {
     "name": "stdout",
     "output_type": "stream",
     "text": [
      "DOF: 6545\n"
     ]
    },
    {
     "name": "stdout",
     "output_type": "stream",
     "text": [
      "Relative error of direct problem solution: 1.48e-02\n"
     ]
    }
   ],
   "source": [
    "mat_dict = {\n",
    "  \"steel\": {\"steel\": 0},\n",
    "  \"air\": {\"air\": 0},\n",
    "}\n",
    "\n",
    "test_problem = pq.FemProblem(domains)\n",
    "\n",
    "# Assemble the problem using the materials dictionary\n",
    "test_problem.assembly(mat_dict)\n",
    "\n",
    "# Print the degree of freedom count\n",
    "print(f\"DOF: {test_problem.dof_count}\")\n",
    "\n",
    "test_problem._matrix = test_problem._matrix.tocsr()\n",
    "test_problem.matrix.data[test_problem.matrix.indptr[-2] : test_problem.matrix.indptr[-1]] = 0\n",
    "test_problem._matrix = test_problem._matrix.tocsc()\n",
    "test_problem.matrix.data[test_problem.matrix.indptr[-2] : test_problem.matrix.indptr[-1]] = 0\n",
    "test_problem._matrix[-1, -1] = 1\n",
    "test_problem._matrix.eliminate_zeros()\n",
    "\n",
    "# Get the kernel for Gram-Schmidt orthogonalization\n",
    "kernel = test_problem.domains[0].kernel\n",
    "\n",
    "test_problem._load_vector += F @ res_flow\n",
    "\n",
    "test_problem.factorize()\n",
    "# Solve the problem\n",
    "test_sol = test_problem.solve(atol=1e-15)\n",
    "\n",
    "# Perform the Gram-Schmidt orthogonalization\n",
    "test_sol -= kernel[0] * (test_sol @ kernel[0]) / (kernel[0] @ kernel[0])\n",
    "\n",
    "rel_err = np.linalg.norm(test_sol - u_ort) / np.linalg.norm(u_ort)\n",
    "\n",
    "print(f\"Relative error of direct problem solution: {rel_err:.2e}\")"
   ]
  },
  {
   "cell_type": "code",
   "execution_count": 20,
   "metadata": {},
   "outputs": [
    {
     "data": {
      "text/plain": [
       "2.9228132148761266e-05"
      ]
     },
     "execution_count": 20,
     "metadata": {},
     "output_type": "execute_result"
    }
   ],
   "source": [
    "test_grad_x = proj_grad[0] @ test_sol\n",
    "test_grad_y = proj_grad[1] @ test_sol\n",
    "test_grad_z = proj_grad[2] @ test_sol\n",
    "\n",
    "test_grad = np.concatenate([test_grad_x, test_grad_y, test_grad_z])\n",
    "np.linalg.norm(test_grad - 2) / np.linalg.norm(2 * np.ones_like(grad))"
   ]
  },
  {
   "cell_type": "code",
   "execution_count": null,
   "metadata": {},
   "outputs": [],
   "source": []
  }
 ],
 "metadata": {
  "kernelspec": {
   "display_name": "quasar",
   "language": "python",
   "name": "python3"
  },
  "language_info": {
   "codemirror_mode": {
    "name": "ipython",
    "version": 3
   },
   "file_extension": ".py",
   "mimetype": "text/x-python",
   "name": "python",
   "nbconvert_exporter": "python",
   "pygments_lexer": "ipython3",
   "version": "3.11.8"
  }
 },
 "nbformat": 4,
 "nbformat_minor": 2
}
