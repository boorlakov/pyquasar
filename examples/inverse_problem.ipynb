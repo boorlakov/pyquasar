{
 "cells": [
  {
   "cell_type": "markdown",
   "metadata": {},
   "source": [
    "# Inverse problem of the reconstruction of the Neumann BCs for Laplace's equation"
   ]
  },
  {
   "cell_type": "markdown",
   "metadata": {},
   "source": [
    "__Formulation of Inverse Problem__\n",
    "\n",
    "__Direct Problem__\n",
    "- Equation: $A * x = f$\n",
    "- $A$: Matrix of Direct Problem\n",
    "  - shape: ($\\text{dof}$, $\\text{dof}$)\n",
    "- $x$: Solution of Direct Problem\n",
    "  - shape: ($\\text{dof}$)\n",
    "- $f$: Load Vector of Direct Problem\n",
    "  - shape: ($\\text{dof}$)\n",
    "- $F$: Projection Matrix from Normal Derivative in given points (Mass Matrix over Boundary Elements)\n",
    "  - shape: ($\\text{dof}$, $g$)\n",
    "\n",
    "__Inverse Problem__\n",
    "- Equation: $M * y = \\text{grad}$\n",
    "- $M$: Resulting Matrix of Inverse Problem\n",
    "  - shape: ($3p$, $\\text{dof}$)\n",
    "- $y$: Normal Derivative in Boundary Points\n",
    "- $\\text{grad}$: Concatenation of Grad Vectors ($\\text{grad}_x, \\text{grad}_y, \\text{grad}_z$)\n",
    "\n",
    "__Additional Variables__\n",
    "- $P_x, P_y, P_z$: Projection Matrices from Solution to Partial Derivative\n",
    "  - shape: ($p$, $\\text{dof}$)\n",
    "- $M_x = P_x \\times A^{-1} \\times F$: Need batching with Direct Solvers (spsolve or better factorized to reduce amount of time)\n",
    "  - Note: $A$ is singular, so we need to be careful with solving the system\n",
    "- $M = (M_x, M_y, M_z)$: Concatenation of Inverse Problem Matrices\n",
    "- $\\text{dof}$: Degrees of Freedom of Direct Problem\n",
    "- $p$: Number of Measuring Points\n",
    "- $g$: Number of Boundary Points with Known Normal Derivative (Is it all boundary points?)"
   ]
  },
  {
   "cell_type": "markdown",
   "metadata": {},
   "source": [
    "__About calculating M__\n",
    "\n",
    "Computing $M$ consists of solving a lot of systems of linear equations:\n",
    "\n",
    "$$A^{-1} * F = X$$\n",
    "\n",
    "is same with solving SLAE with matrix rhs:\n",
    "\n",
    "$$AX = F$$\n",
    "\n",
    "Result of this multipication can be a big dense (90% density) matrix so we should solve SLAE with one or several columns form $F$.\n",
    "\n",
    "Probable algorithm for getting $M$ (Under investigation, because it gives big error (e.g. `1e-2` instead of `1e-11`))\n",
    "\n",
    "```python\n",
    "for f in F:\n",
    "\n",
    "  x = spsolve(A, f) # f.shape: (dof, 1)\n",
    "  \n",
    "  Mx[i] = P_x @ x\n",
    "```"
   ]
  },
  {
   "cell_type": "markdown",
   "metadata": {},
   "source": [
    "__Questions__\n",
    "\n",
    "1. How to deal with $A$ is singular? It affects calculation of $M$.\n",
    "\n",
    "2. How to assemble $F$, if we have rhs (source) in direct problem? (If equation is not Laplace's)"
   ]
  },
  {
   "cell_type": "markdown",
   "metadata": {},
   "source": [
    "## Preprocessing"
   ]
  },
  {
   "cell_type": "markdown",
   "metadata": {},
   "source": [
    "Import the required libraries"
   ]
  },
  {
   "cell_type": "code",
   "execution_count": 25,
   "metadata": {},
   "outputs": [],
   "source": [
    "import numpy as np\n",
    "import scipy as sp\n",
    "\n",
    "from tqdm import tqdm\n",
    "\n",
    "import pyquasar as pq\n",
    "\n",
    "np.set_printoptions(precision=3, suppress=False)"
   ]
  },
  {
   "cell_type": "markdown",
   "metadata": {},
   "source": [
    "Load the `.geo` file and generate the mesh for the problem using GMSH.\n",
    "\n",
    "`refine_k` is the number of times the mesh is refined."
   ]
  },
  {
   "cell_type": "code",
   "execution_count": 56,
   "metadata": {},
   "outputs": [
    {
     "data": {
      "text/plain": [
       "<Mesh object summary \n",
       "\tNumeration: global\n",
       "\tDomains: [<MeshDomain object summary\n",
       "\tMaterial: Air\n",
       "\tTotal elements number: 55808\n",
       "\tElement type: Tetrahedron 4; Count: 55808\n",
       "\tBoundary type: neumann; Tag: 1; Element type: Triangle 3; Count: 4960.\n",
       "\tBoundary type: neumann; Tag: 2; Element type: Triangle 3; Count: 1024.\n",
       "\tBoundary type: neumann; Tag: -3; Element type: Triangle 3; Count: 1024.\n",
       ">]>"
      ]
     },
     "execution_count": 56,
     "metadata": {},
     "output_type": "execute_result"
    }
   ],
   "source": [
    "mesh = pq.Mesh.load(\"cylinder.geo\", refine_k=2)\n",
    "mesh"
   ]
  },
  {
   "cell_type": "markdown",
   "metadata": {},
   "source": [
    "## Direct Problem"
   ]
  },
  {
   "cell_type": "markdown",
   "metadata": {},
   "source": [
    "Assemble & solve the direct problem to obtain problem matrix, load vector and the solution `u`.\n",
    "\n",
    "Note that mesh consists of only Neumann boundary conditions and therefore the solution `u` is need to be orthogonalized."
   ]
  },
  {
   "cell_type": "code",
   "execution_count": 27,
   "metadata": {},
   "outputs": [
    {
     "name": "stdout",
     "output_type": "stream",
     "text": [
      "DOF: 11107\n"
     ]
    }
   ],
   "source": [
    "# Define the materials dictionary\n",
    "materials = {\n",
    "  \"air\": {\"air\": 0},\n",
    "}\n",
    "\n",
    "# Create a list of FemDomain objects from the mesh domains\n",
    "domains = [pq.FemDomain(domain) for domain in mesh.domains]\n",
    "\n",
    "# Create a FemProblem object with the domains\n",
    "problem = pq.FemProblem(domains)\n",
    "\n",
    "# Assemble the problem using the materials dictionary\n",
    "problem.assembly(materials)\n",
    "\n",
    "# Print the degree of freedom count\n",
    "print(f\"DOF: {problem.dof_count}\")\n",
    "\n",
    "problem._matrix = problem._matrix.tocsr()\n",
    "problem.matrix.data[problem.matrix.indptr[-2] : problem.matrix.indptr[-1]] = 0\n",
    "problem._matrix = problem._matrix.tocsc()\n",
    "problem.matrix.data[problem.matrix.indptr[-2] : problem.matrix.indptr[-1]] = 0\n",
    "problem._matrix[-1, -1] = 1\n",
    "problem._matrix.eliminate_zeros()"
   ]
  },
  {
   "cell_type": "markdown",
   "metadata": {},
   "source": [
    "## Inverse Problem"
   ]
  },
  {
   "cell_type": "markdown",
   "metadata": {},
   "source": [
    "Get points of interest"
   ]
  },
  {
   "cell_type": "code",
   "execution_count": 61,
   "metadata": {},
   "outputs": [],
   "source": [
    "data = np.load(\"data/data.npz\")\n",
    "xs = data[\"xs\"]\n",
    "ys = data[\"ys\"]\n",
    "zs = data[\"zs\"]\n",
    "grad_x = data[\"grad_x\"]\n",
    "grad_y = data[\"grad_y\"]\n",
    "grad_z = data[\"grad_z\"]\n",
    "data.close()"
   ]
  },
  {
   "cell_type": "code",
   "execution_count": 62,
   "metadata": {},
   "outputs": [
    {
     "data": {
      "text/plain": [
       "(7200, 3)"
      ]
     },
     "execution_count": 62,
     "metadata": {},
     "output_type": "execute_result"
    }
   ],
   "source": [
    "pts = np.concatenate([xs[:7200, None], ys[:7200, None], zs[:7200, None]], axis=1)\n",
    "pts.shape"
   ]
  },
  {
   "cell_type": "markdown",
   "metadata": {},
   "source": [
    "Project the solution gradient into the points of interest"
   ]
  },
  {
   "cell_type": "code",
   "execution_count": 30,
   "metadata": {},
   "outputs": [
    {
     "name": "stderr",
     "output_type": "stream",
     "text": [
      "100%|██████████| 57/57 [00:29<00:00,  1.94it/s]\n"
     ]
    }
   ],
   "source": [
    "proj_grad = problem.project_grad_into(pts, batch_size=128)"
   ]
  },
  {
   "cell_type": "code",
   "execution_count": 31,
   "metadata": {},
   "outputs": [],
   "source": [
    "grad = np.concatenate([grad_x[:7200], grad_y[:7200], grad_z[:7200]])"
   ]
  },
  {
   "cell_type": "markdown",
   "metadata": {},
   "source": [
    "Get the Mass matrix over the Neumann type boundary"
   ]
  },
  {
   "cell_type": "code",
   "execution_count": 32,
   "metadata": {},
   "outputs": [],
   "source": [
    "# POSSIBLE CHECK: F[:boundary_ids.max(),]^-1 @ load -> best approximation of the flow\n",
    "F = problem.mass_boundary([\"neumann\"])"
   ]
  },
  {
   "cell_type": "markdown",
   "metadata": {},
   "source": [
    "Initialize the inverse problem matrix"
   ]
  },
  {
   "cell_type": "code",
   "execution_count": 33,
   "metadata": {},
   "outputs": [],
   "source": [
    "m_shape = pts.shape[0], F.shape[1]\n",
    "Mx = np.zeros(m_shape)\n",
    "My = np.zeros(m_shape)\n",
    "Mz = np.zeros(m_shape)"
   ]
  },
  {
   "cell_type": "markdown",
   "metadata": {},
   "source": [
    "Get factorization of direct problem matrix"
   ]
  },
  {
   "cell_type": "code",
   "execution_count": 34,
   "metadata": {},
   "outputs": [],
   "source": [
    "sp.sparse.linalg.use_solver(useUmfpack = False)"
   ]
  },
  {
   "cell_type": "code",
   "execution_count": 35,
   "metadata": {},
   "outputs": [],
   "source": [
    "direct_problem_solve = sp.sparse.linalg.factorized(problem.matrix)"
   ]
  },
  {
   "cell_type": "markdown",
   "metadata": {},
   "source": [
    "Iteratively calculate the inverse problem matrix"
   ]
  },
  {
   "cell_type": "code",
   "execution_count": 36,
   "metadata": {},
   "outputs": [
    {
     "name": "stderr",
     "output_type": "stream",
     "text": [
      "100%|██████████| 3506/3506 [00:51<00:00, 67.92it/s]\n"
     ]
    }
   ],
   "source": [
    "for i, f in tqdm(enumerate(F.T), total=F.shape[1]):\n",
    "  sol = direct_problem_solve(f.T.toarray().ravel())\n",
    "\n",
    "  Mx[:, i] = (proj_grad[0] @ sol).ravel()\n",
    "  My[:, i] = (proj_grad[1] @ sol).ravel()\n",
    "  Mz[:, i] = (proj_grad[2] @ sol).ravel()\n",
    "\n",
    "M = np.concatenate([Mx, My, Mz])"
   ]
  },
  {
   "cell_type": "markdown",
   "metadata": {},
   "source": [
    "Iteratively calculate the inverse problem solution"
   ]
  },
  {
   "cell_type": "code",
   "execution_count": 44,
   "metadata": {},
   "outputs": [
    {
     "name": "stdout",
     "output_type": "stream",
     "text": [
      "The reason of stopping: 7\n",
      "Number of iterations: 10000\n",
      "Norm of the residual: 5.07e+00\n",
      "Relative error of inverse problem solution (M @ y = grad): 2.73e-02\n"
     ]
    }
   ],
   "source": [
    "res_flow, istop, itn, normr = sp.sparse.linalg.lsmr(M, grad, atol=1e-15, btol=1e-15, maxiter=10000)[:4]\n",
    "\n",
    "rhs = F @ res_flow\n",
    "rerr = np.linalg.norm(M @ res_flow - grad) / np.linalg.norm(grad)\n",
    "\n",
    "print(f\"The reason of stopping: {istop}\")\n",
    "print(f\"Number of iterations: {itn}\")\n",
    "print(f\"Norm of the residual: {normr:.2e}\")\n",
    "print(f\"Relative error of inverse problem solution (M @ y = grad): {rerr:.2e}\")"
   ]
  },
  {
   "cell_type": "markdown",
   "metadata": {},
   "source": [
    "Test through direct problem"
   ]
  },
  {
   "cell_type": "code",
   "execution_count": 45,
   "metadata": {},
   "outputs": [
    {
     "name": "stdout",
     "output_type": "stream",
     "text": [
      "DOF: 11107\n"
     ]
    }
   ],
   "source": [
    "mat_dict = {\n",
    "  \"air\": {\"air\": 0},\n",
    "}\n",
    "\n",
    "test_problem = pq.FemProblem(domains)\n",
    "\n",
    "# Assemble the problem using the materials dictionary\n",
    "test_problem.assembly(mat_dict)\n",
    "\n",
    "# Print the degree of freedom count\n",
    "print(f\"DOF: {test_problem.dof_count}\")\n",
    "\n",
    "test_problem._matrix = test_problem._matrix.tocsr()\n",
    "test_problem.matrix.data[test_problem.matrix.indptr[-2] : test_problem.matrix.indptr[-1]] = 0\n",
    "test_problem._matrix = test_problem._matrix.tocsc()\n",
    "test_problem.matrix.data[test_problem.matrix.indptr[-2] : test_problem.matrix.indptr[-1]] = 0\n",
    "test_problem._matrix[-1, -1] = 1\n",
    "test_problem._matrix.eliminate_zeros()\n",
    "\n",
    "# Get the kernel for Gram-Schmidt orthogonalization\n",
    "kernel = test_problem.domains[0].kernel\n",
    "\n",
    "test_problem._load_vector += F @ res_flow\n",
    "\n",
    "test_problem.factorize()\n",
    "# Solve the problem\n",
    "test_sol = test_problem.solve(atol=1e-15)\n",
    "\n",
    "# Perform the Gram-Schmidt orthogonalization\n",
    "test_sol -= kernel[0] * (test_sol @ kernel[0]) / (kernel[0] @ kernel[0])"
   ]
  },
  {
   "cell_type": "code",
   "execution_count": 46,
   "metadata": {},
   "outputs": [],
   "source": [
    "test_pts = np.concatenate([xs[7200:, None], ys[7200:, None], zs[7200:, None]], axis=1)"
   ]
  },
  {
   "cell_type": "code",
   "execution_count": 47,
   "metadata": {},
   "outputs": [],
   "source": [
    "test_true_grad = np.concatenate([grad_x[7200:], grad_y[7200:], grad_z[7200:]])"
   ]
  },
  {
   "cell_type": "code",
   "execution_count": 48,
   "metadata": {},
   "outputs": [
    {
     "name": "stderr",
     "output_type": "stream",
     "text": [
      "100%|██████████| 1145/1145 [08:35<00:00,  2.22it/s]\n"
     ]
    }
   ],
   "source": [
    "test_proj_grad = test_problem.project_grad_into(test_pts, batch_size=128)\n",
    "test_grad_x = test_proj_grad[0] @ test_sol\n",
    "test_grad_y = test_proj_grad[1] @ test_sol\n",
    "test_grad_z = test_proj_grad[2] @ test_sol\n",
    "\n",
    "test_grad = np.concatenate([test_grad_x, test_grad_y, test_grad_z])"
   ]
  },
  {
   "cell_type": "code",
   "execution_count": 49,
   "metadata": {},
   "outputs": [
    {
     "data": {
      "text/plain": [
       "1.4910377334221272"
      ]
     },
     "execution_count": 49,
     "metadata": {},
     "output_type": "execute_result"
    }
   ],
   "source": [
    "np.linalg.norm(test_grad - test_true_grad) / np.linalg.norm(test_true_grad)"
   ]
  },
  {
   "cell_type": "code",
   "execution_count": 50,
   "metadata": {},
   "outputs": [
    {
     "data": {
      "text/plain": [
       "array([ 3.857e-02, -1.363e-02, -5.812e-04, ..., -1.135e+01, -6.319e+00,\n",
       "       -2.405e+01])"
      ]
     },
     "execution_count": 50,
     "metadata": {},
     "output_type": "execute_result"
    }
   ],
   "source": [
    "test_grad - test_true_grad"
   ]
  }
 ],
 "metadata": {
  "kernelspec": {
   "display_name": "quasar",
   "language": "python",
   "name": "python3"
  },
  "language_info": {
   "codemirror_mode": {
    "name": "ipython",
    "version": 3
   },
   "file_extension": ".py",
   "mimetype": "text/x-python",
   "name": "python",
   "nbconvert_exporter": "python",
   "pygments_lexer": "ipython3",
   "version": "3.11.8"
  }
 },
 "nbformat": 4,
 "nbformat_minor": 2
}
