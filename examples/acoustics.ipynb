{
 "cells": [
  {
   "cell_type": "markdown",
   "metadata": {},
   "source": [
    "# Imports"
   ]
  },
  {
   "cell_type": "code",
   "execution_count": 1,
   "metadata": {},
   "outputs": [],
   "source": [
    "import numpy as np\n",
    "import pyquasar as pq"
   ]
  },
  {
   "cell_type": "markdown",
   "metadata": {},
   "source": [
    "# Helmholtz equation with fixed frequency"
   ]
  },
  {
   "cell_type": "markdown",
   "metadata": {},
   "source": [
    "$\\Delta p + k^2 p = -j \\rho_0 \\omega q$\n",
    "\n",
    "Dirichlet boundary condition:\n",
    "\n",
    "$p = \\hat p$\n",
    "\n",
    "Neumann boundary condition:\n",
    "\n",
    "$\\nu_n = \\frac{j}{\\rho_0 \\omega} \\frac{\\partial p}{\\partial n} = \\hat \\nu_n$\n",
    "\n",
    "Robin boundary condition:\n",
    "\n",
    "$p = Z \\nu_n = \\frac{j}{\\rho_0 \\omega A} \\frac{\\partial p}{\\partial n}$ \n",
    "\n",
    "where:\n",
    " - $\\omega = 2 \\pi f$;\n",
    " - $k = \\frac{\\omega}{c}$;\n",
    " - $c$ -- speed of sound;\n",
    " - $f$ -- frequency;\n",
    " - $\\rho_0$ -- density;\n",
    " - $Z$ -- impedance;\n",
    " - $A$ -- ???;\n",
    " - $\\nu_n$ -- normal velocity."
   ]
  },
  {
   "cell_type": "markdown",
   "metadata": {},
   "source": [
    "## Robin boundary condition"
   ]
  },
  {
   "cell_type": "markdown",
   "metadata": {},
   "source": [
    "$a u + b \\frac{\\partial u}{\\partial n} = g$\n",
    "\n",
    "$\\frac{\\partial u}{\\partial n} + \\frac{a}{b} u = \\frac{g}{b}$"
   ]
  },
  {
   "cell_type": "markdown",
   "metadata": {},
   "source": [
    "$\\lambda \\frac{\\partial u}{\\partial n} + \\beta (u - u_{\\beta}) = 0$\n",
    "\n",
    "$\\lambda \\frac{\\partial u}{\\partial n} + \\beta u = \\beta u_{\\beta}$\n"
   ]
  },
  {
   "cell_type": "markdown",
   "metadata": {},
   "source": [
    "$p = \\frac{j}{\\rho_0 \\omega A} \\frac{\\partial p}{\\partial n}$\n",
    "\n",
    "$\\frac{\\partial p}{\\partial n} - \\frac{\\rho_0 \\omega A}{j} p = 0$"
   ]
  },
  {
   "cell_type": "code",
   "execution_count": 15,
   "metadata": {},
   "outputs": [],
   "source": [
    "air = {\"density\": 1.21, \"speed\": 343, \"impedance\": 415} "
   ]
  },
  {
   "cell_type": "code",
   "execution_count": 57,
   "metadata": {},
   "outputs": [],
   "source": [
    "f = 10000\n",
    "k = 2 * np.pi * f / air[\"speed\"]\n",
    "j = 1.j"
   ]
  },
  {
   "cell_type": "code",
   "execution_count": 58,
   "metadata": {},
   "outputs": [],
   "source": [
    "def u(p, n):\n",
    "  return p[..., 0] - p[..., 1]\n",
    "\n",
    "def rhs(p, n):\n",
    "  return k**2 * (p[..., 0] - p[..., 1])\n",
    "\n",
    "def flow(p, n):\n",
    "  return n[..., 0] - n[..., 1]\n",
    "\n",
    "def ub(p, n):\n",
    "  return 2 * (n[..., 0] - n[..., 1]) + p[..., 0] - p[..., 1]"
   ]
  },
  {
   "cell_type": "code",
   "execution_count": 59,
   "metadata": {},
   "outputs": [],
   "source": [
    "mesh = pq.Mesh.load(\"cube.geo\", refine_k=1)\n",
    "domains = [pq.FemDomain(domain) for domain in mesh]\n",
    "problem = pq.FemProblem(domains)"
   ]
  },
  {
   "cell_type": "code",
   "execution_count": 60,
   "metadata": {},
   "outputs": [
    {
     "data": {
      "text/plain": [
       "<Mesh object summary \n",
       "\tNumeration: global\n",
       "\tDomains: [<MeshDomain object summary\n",
       "\tMaterial: air\n",
       "\tTotal elements number: 3776\n",
       "\tElement type: Tetrahedron 4; Count: 3776\n",
       "\tBoundary type: dirichlet; Tag: 1; Element type: Triangle 3; Count: 200.\n",
       "\tBoundary type: dirichlet; Tag: 2; Element type: Triangle 3; Count: 136.\n",
       "\tBoundary type: dirichlet; Tag: 3; Element type: Triangle 3; Count: 200.\n",
       "\tBoundary type: dirichlet; Tag: 4; Element type: Triangle 3; Count: 136.\n",
       "\tBoundary type: robin; Tag: 5; Element type: Triangle 3; Count: 256.\n",
       "\tBoundary type: robin; Tag: 6; Element type: Triangle 3; Count: 256.\n",
       ">]>"
      ]
     },
     "execution_count": 60,
     "metadata": {},
     "output_type": "execute_result"
    }
   ],
   "source": [
    "mesh"
   ]
  },
  {
   "cell_type": "code",
   "execution_count": 61,
   "metadata": {},
   "outputs": [],
   "source": [
    "materials = {\"air\": {\"air\": rhs, \"robin\": {\"robin\":ub, \"beta\": 0.5}, \"gamma\": k**2}}\n",
    "problem.assembly(materials, dtype=np.complex128)"
   ]
  },
  {
   "cell_type": "code",
   "execution_count": 62,
   "metadata": {},
   "outputs": [],
   "source": [
    "problem.add_skeleton_projection(u, [\"dirichlet\"], dtype=np.complex128)"
   ]
  },
  {
   "cell_type": "code",
   "execution_count": 63,
   "metadata": {},
   "outputs": [],
   "source": [
    "sol = problem.solve(1e-15)"
   ]
  },
  {
   "cell_type": "code",
   "execution_count": 64,
   "metadata": {},
   "outputs": [],
   "source": [
    "real_sol = sol.real"
   ]
  },
  {
   "cell_type": "code",
   "execution_count": 65,
   "metadata": {},
   "outputs": [
    {
     "data": {
      "text/plain": [
       "1.5831658352453858e-12"
      ]
     },
     "execution_count": 65,
     "metadata": {},
     "output_type": "execute_result"
    }
   ],
   "source": [
    "np.linalg.norm(sol - u(domains[0].vertices, 0)) / np.linalg.norm(u(domains[0].vertices, 0))"
   ]
  },
  {
   "cell_type": "code",
   "execution_count": 66,
   "metadata": {},
   "outputs": [
    {
     "data": {
      "text/plain": [
       "1.5831658352453854e-12"
      ]
     },
     "execution_count": 66,
     "metadata": {},
     "output_type": "execute_result"
    }
   ],
   "source": [
    "np.linalg.norm(real_sol - u(domains[0].vertices, 0)) / np.linalg.norm(u(domains[0].vertices, 0))"
   ]
  },
  {
   "cell_type": "code",
   "execution_count": 67,
   "metadata": {},
   "outputs": [],
   "source": [
    "mic_pos = np.array([[2, 2, 2]])"
   ]
  },
  {
   "cell_type": "code",
   "execution_count": 68,
   "metadata": {},
   "outputs": [
    {
     "name": "stderr",
     "output_type": "stream",
     "text": [
      "100%|██████████| 1/1 [00:00<00:00, 277.09it/s]\n"
     ]
    }
   ],
   "source": [
    "proj = problem.tabulate(mic_pos, batch_size=1)"
   ]
  },
  {
   "cell_type": "code",
   "execution_count": 69,
   "metadata": {},
   "outputs": [
    {
     "data": {
      "text/plain": [
       "array([1.17705325e-14])"
      ]
     },
     "execution_count": 69,
     "metadata": {},
     "output_type": "execute_result"
    }
   ],
   "source": [
    "proj @ real_sol"
   ]
  },
  {
   "cell_type": "code",
   "execution_count": null,
   "metadata": {},
   "outputs": [],
   "source": []
  }
 ],
 "metadata": {
  "kernelspec": {
   "display_name": "workspace",
   "language": "python",
   "name": "python3"
  },
  "language_info": {
   "codemirror_mode": {
    "name": "ipython",
    "version": 3
   },
   "file_extension": ".py",
   "mimetype": "text/x-python",
   "name": "python",
   "nbconvert_exporter": "python",
   "pygments_lexer": "ipython3",
   "version": "3.11.8"
  }
 },
 "nbformat": 4,
 "nbformat_minor": 2
}
