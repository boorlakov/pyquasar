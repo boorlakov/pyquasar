{
  "cells": [
    {
      "cell_type": "code",
      "execution_count": null,
      "metadata": {
        "id": "NVcEE6_IZnw4"
      },
      "outputs": [],
      "source": [
        "import numpy as np\n",
        "import matplotlib.pyplot as plt\n",
        "from matplotlib import colors\n",
        "from matplotlib.tri import LinearTriInterpolator, CubicTriInterpolator, Triangulation\n",
        "\n",
        "from pyquasar import load_mesh, FemDomain, BemDomain, FetiProblem, Coil2D"
      ]
    },
    {
      "cell_type": "code",
      "execution_count": null,
      "metadata": {
        "colab": {
          "base_uri": "https://localhost:8080/"
        },
        "id": "brV2xySdk_-d",
        "outputId": "c43147bf-5dea-43b4-aa77-9a0f82ac2987"
      },
      "outputs": [],
      "source": [
        "def print_feti_information(problem):\n",
        "  print(f'Feti problem: domains {len(problem.domains)}, dual size {problem.dual_size}, primal size {problem.primal_size}')\n",
        "  print(f'Condition number estimation {problem.condition_number_estimate():.2f}')\n",
        "\n",
        "def print_domains_information(domains):\n",
        "  fem = [domain for domain in domains if isinstance(domain, FemDomain)]\n",
        "  print(f'FEM domains {len(fem)}, elements {sum(d.element_count for d in fem)}, dof {sum(d.dof_count for d in fem)}')\n",
        "  bem = [domain for domain in domains if isinstance(domain, BemDomain)]\n",
        "  print(f'BEM domains {len(bem)}, elements {sum(d.element_count for d in bem)}, dof {sum(d.dof_count for d in bem)}')\n",
        "\n",
        "coil_vertices = np.array([[-1, 0.5], [+1, 0.5], [+1, 2.5], [-1, 2.5]])\n",
        "coil_vertices = [coil_vertices, coil_vertices - [0, 3], coil_vertices[::-1] + [7, 0], coil_vertices[::-1] + [7, -3]]\n",
        "coil = Coil2D(coil_vertices)\n",
        "\n",
        "mu0 = 4 * np.pi * 1e-7\n",
        "mu = 1000 * mu0\n",
        "\n",
        "#mesh = [data for data in load_mesh('/content/dipole2d_fine.msh', refineK=0)]\n",
        "mesh = [data for data in load_mesh('dipole2d.geo', refineK=2)]\n",
        "problem = FetiProblem([FemDomain(*data) for data in mesh])\n",
        "print_domains_information(problem.domains)\n",
        "\n",
        "mesh2 = [data for data in load_mesh('dipole2d.geo', refineK=3)]\n",
        "problem2 = FetiProblem([FemDomain(*data) for data in mesh2])\n",
        "print_domains_information(problem2.domains)"
      ]
    },
    {
      "cell_type": "markdown",
      "metadata": {
        "id": "apYVlEd-VEfh"
      },
      "source": [
        "# Ploting"
      ]
    },
    {
      "cell_type": "code",
      "execution_count": null,
      "metadata": {
        "id": "3Ue05InUhuI6"
      },
      "outputs": [],
      "source": [
        "def plot_scalar(problem, solutions, func, title, mesh=False):\n",
        "  fig, ax = plt.subplots(figsize=(10, 8))\n",
        "  ax.set_title(title)\n",
        "  ax.set_xlim(-7, 9)\n",
        "  ax.set_ylim(-8, 8)\n",
        "\n",
        "  triangs = [Triangulation(domain.vertices[:, 0], domain.vertices[:, 1], domain.elements[0][1]) for domain in problem.domains]\n",
        "  triangs += [Triangulation(t.x, -t.y, t.triangles) for t in triangs]\n",
        "\n",
        "  interps = [LinearTriInterpolator(triang, sol) for triang, sol in zip(triangs, solutions * 2)]\n",
        "\n",
        "  n = len(problem.domains)\n",
        "  values = [func(triang.x, triang.y, interp, domain.material, sign) for triang, interp, domain, sign\n",
        "            in zip(triangs, interps, problem.domains * 2, [1] * n + [-1] * n)]\n",
        "\n",
        "  parts = []\n",
        "  for triang, value in zip(triangs, values):\n",
        "    parts.append(ax.tripcolor(triang, value, shading='gouraud', cmap='seismic'))\n",
        "\n",
        "  vmin = min(part.get_array().min() for part in parts)\n",
        "  vmax = max(part.get_array().max() for part in parts)\n",
        "  norm = colors.Normalize(vmin=vmin, vmax=vmax)\n",
        "  for p in parts:\n",
        "      p.set_norm(norm)\n",
        "\n",
        "  levels = np.linspace(vmin, vmax, 30)\n",
        "  for triang, value in zip(triangs, values):\n",
        "    ax.tricontour(triang, value, levels=levels)\n",
        "\n",
        "  if mesh:\n",
        "    for triang in triangs[:n]:\n",
        "      ax.triplot(triang, linewidth=0.2)\n",
        "\n",
        "  fig.colorbar(parts[0], ax=ax)\n",
        "  plt.show()\n",
        "\n",
        "def plot_vector(problem, solutions, func, title, mesh=False):\n",
        "  fig, ax = plt.subplots(figsize=(10, 8))\n",
        "  ax.set_title(title)\n",
        "  ax.set_xlim(-7, 9)\n",
        "  ax.set_ylim(-8, 8)\n",
        "\n",
        "  triangs = [Triangulation(domain.vertices[:, 0], domain.vertices[:, 1], domain.elements[0][1]) for domain in problem.domains]\n",
        "  triangs += [Triangulation(t.x, -t.y, t.triangles) for t in triangs]\n",
        "\n",
        "  n = len(problem.domains)\n",
        "  interps = [CubicTriInterpolator(triang, sol) for triang, sol in zip(triangs, solutions)]\n",
        "  interps += [CubicTriInterpolator(triang, sol) for triang, sol in zip(triangs[n:], solutions)]\n",
        "\n",
        "  X, Y = np.meshgrid(np.linspace(-7, 9, 40), np.linspace(-8, 8, 40))\n",
        "  U = np.zeros_like(X)\n",
        "  V = np.zeros_like(Y)\n",
        "\n",
        "  values = []\n",
        "  for triang, interp, domain, sign in zip(triangs, interps, problem.domains * 2, [1] * n + [-1] * n):\n",
        "    values.append(np.linalg.norm(func(triang.x, triang.y, interp, domain.material, sign), axis=0))\n",
        "\n",
        "    mask = triang.get_trifinder()(X, Y) != -1\n",
        "    valX, valY = func(X[mask], Y[mask], interp, domain.material, sign)\n",
        "    U[mask] = valX\n",
        "    V[mask] = valY\n",
        "\n",
        "  parts = []\n",
        "  for triang, value in zip(triangs, values):\n",
        "    parts.append(ax.tripcolor(triang, value, shading='gouraud', cmap='Purples'))\n",
        "\n",
        "  vmin = min(part.get_array().min() for part in parts)\n",
        "  vmax = max(part.get_array().max() for part in parts)\n",
        "  norm = colors.Normalize(vmin=vmin, vmax=vmax)\n",
        "  for p in parts:\n",
        "      p.set_norm(norm)\n",
        "\n",
        "  if mesh:\n",
        "    for triang in triangs[:n]:\n",
        "      ax.triplot(triang, linewidth=0.2)\n",
        "\n",
        "  Bnorm = np.sqrt(U ** 2 + V ** 2)\n",
        "  #bar = ax.quiver(X, Y, U/Bnorm, V/Bnorm, Bnorm, norm=norm, cmap='plasma')\n",
        "  bar = ax.quiver(X, Y, U, V, Bnorm, norm=norm, cmap='plasma')\n",
        "\n",
        "  fig.colorbar(bar, ax=ax)\n",
        "  plt.show()\n",
        "\n",
        "def plot_diff(problem1, solutions1, problem2, solutions2, func1, func2, title, mesh=False):\n",
        "  fig, ax = plt.subplots(figsize=(10, 8))\n",
        "  ax.set_title(title)\n",
        "  ax.set_xlim(-7, 9)\n",
        "  ax.set_ylim(-8, 8)\n",
        "\n",
        "  triangs = [Triangulation(domain.vertices[:, 0], domain.vertices[:, 1], domain.elements[0][1]) for domain in problem1.domains]\n",
        "  triangs += [Triangulation(t.x, -t.y, t.triangles) for t in triangs]\n",
        "\n",
        "  triangs2 = [Triangulation(domain.vertices[:, 0], domain.vertices[:, 1], domain.elements[0][1]) for domain in problem2.domains]\n",
        "  triangs2 += [Triangulation(t.x, -t.y, t.triangles) for t in triangs2]\n",
        "\n",
        "  interps1 = [LinearTriInterpolator(triang, sol) for triang, sol in zip(triangs, solutions1 * 2)]\n",
        "  interps2 = [LinearTriInterpolator(triang, sol) for triang, sol in zip(triangs2, solutions2 * 2)]\n",
        "\n",
        "  n = len(problem.domains)\n",
        "  values1 = [func1(triang.x, triang.y, interp, domain.material, sign) for triang, interp, domain, sign\n",
        "            in zip(triangs, interps1, problem.domains * 2, [1] * n + [-1] * n)]\n",
        "  values2 = [func2(triang.x, triang.y, interp, domain.material, sign) for triang, interp, domain, sign\n",
        "            in zip(triangs, interps2, problem.domains * 2, [1] * n + [-1] * n)]\n",
        "  max_val_norm = max(np.max(np.sqrt(x ** 2 + y ** 2)) for x, y in values2)\n",
        "\n",
        "  diffs = [np.sqrt((x1 - x2) ** 2 + (y1 - y2) ** 2)/max_val_norm for (x1, y1), (x2, y2) in zip(values1, values2)]\n",
        "\n",
        "  parts = []\n",
        "  for triang, diff in zip(triangs, diffs):\n",
        "    parts.append(ax.tripcolor(triang, diff, shading='gouraud', cmap='turbo'))\n",
        "\n",
        "  #vmin = min(part.get_array().min() for part in parts)\n",
        "  #vmax = max(part.get_array().max() for part in parts)\n",
        "  #norm = colors.LogNorm(vmin=vmin, vmax=vmax)\n",
        "  norm = colors.LogNorm(vmin=1e-6, vmax=1)\n",
        "  for p in parts:\n",
        "      p.set_norm(norm)\n",
        "\n",
        "  if mesh:\n",
        "    for triang in triangs[:n]:\n",
        "      ax.triplot(triang, linewidth=0.2)\n",
        "\n",
        "  fig.colorbar(parts[0], ax=ax)\n",
        "  plt.show()"
      ]
    },
    {
      "cell_type": "markdown",
      "metadata": {
        "id": "xm51tkui_1fj"
      },
      "source": [
        "# Total $A$ potential\n",
        "\n",
        "$\\sum\\limits_i \\left(\\frac{1}{\\mu} \\nabla A, \\nabla v\\right)_{\\Omega_i} = \\sum\\limits_i  \\left(J, v\\right)_{\\Omega_i}$"
      ]
    },
    {
      "cell_type": "code",
      "execution_count": null,
      "metadata": {
        "colab": {
          "base_uri": "https://localhost:8080/"
        },
        "id": "tp_7neEE_1Mc",
        "outputId": "24323302-b20b-4c41-de7a-05a8af82bf11"
      },
      "outputs": [],
      "source": [
        "materials = { 'coil_pos': { 'coeff': 1.0/mu0, 'coil_pos': 1 },\n",
        "              'coil_neg': { 'coeff': 1.0/mu0, 'coil_neg': -1 },\n",
        "              'air': { 'coeff': 1.0/mu0 },\n",
        "              'steel': { 'coeff': 1.0/mu }\n",
        "            }\n",
        "\n",
        "problem.assembly('dirichlet', materials)\n",
        "print_feti_information(problem)\n",
        "problem.decompose()\n",
        "solutions = problem.solve()"
      ]
    },
    {
      "cell_type": "code",
      "execution_count": null,
      "metadata": {
        "colab": {
          "base_uri": "https://localhost:8080/"
        },
        "id": "inhdMYAhZk9e",
        "outputId": "67f7412f-63c6-4e51-a4c3-c3d6f2bf6d80"
      },
      "outputs": [],
      "source": [
        "problem2.assembly('dirichlet', materials)\n",
        "print_feti_information(problem2)\n",
        "problem2.decompose()\n",
        "best_sol = problem2.solve()"
      ]
    },
    {
      "cell_type": "code",
      "execution_count": null,
      "metadata": {
        "colab": {
          "base_uri": "https://localhost:8080/"
        },
        "id": "4tCwXX-M2LCp",
        "outputId": "39d12fb0-4318-4222-815d-6df45aab1969"
      },
      "outputs": [],
      "source": [
        "def calcB_from_totalA(x, y, interp, mat, sign):\n",
        "  dx, dy = interp.gradient(x, y)\n",
        "  return dy, -dx\n",
        "\n",
        "calcB = calcB_from_totalA\n",
        "\n",
        "#plot_scalar(problem, solutions, lambda x, y, interp, mat, sign: interp(x, y), \"$A_{total}$\")\n",
        "plot_vector(problem, solutions, calcB_from_totalA, \"$B(A_{total})$\", mesh=True)\n",
        "plot_diff(problem, solutions, problem2, best_sol, calcB_from_totalA, calcB, \"$||B(A_{total}) - B_{dbl}(A_{total})||/||B_{dbl}(A_{total})||_\\\\infty$\")"
      ]
    },
    {
      "cell_type": "markdown",
      "metadata": {
        "id": "7u8_4kUeZ7_o"
      },
      "source": [
        "# Reducted $A$ potential\n",
        "$\\sum\\limits_i \\left(\\frac{1}{\\mu} \\nabla A, \\nabla v\\right)_{\\Omega_i} = - \\sum\\limits_i \\left(\\frac{1}{\\mu} \\frac{\\partial A_e}{\\partial n}, v\\right)_{\\partial\\Omega_i}$\n",
        "\n",
        "$-\\Delta A_e = \\mu_0 J$"
      ]
    },
    {
      "cell_type": "code",
      "execution_count": null,
      "metadata": {
        "colab": {
          "base_uri": "https://localhost:8080/"
        },
        "id": "vSnegJ84NLzU",
        "outputId": "e265606c-38f8-4c2e-8a50-1c73404b60cc"
      },
      "outputs": [],
      "source": [
        "materials = { 'steel': { 'coeff': 1.0/mu, 'gap': lambda p, n: -np.sum(mu0 * coil.calc_gradA(p) * n, axis=-1)/mu },\n",
        "              'air': { 'coeff': 1.0/mu0, 'gap': lambda p, n: -np.sum(mu0 * coil.calc_gradA(p) * n, axis=-1)/mu0 },\n",
        "              'coil_pos': { 'coeff': 1.0/mu0 },\n",
        "              'coil_neg': { 'coeff': 1.0/mu0 }\n",
        "            }\n",
        "\n",
        "problem.assembly('dirichlet', materials)\n",
        "print_feti_information(problem)\n",
        "problem.decompose()\n",
        "solutions = problem.solve()"
      ]
    },
    {
      "cell_type": "code",
      "execution_count": null,
      "metadata": {
        "colab": {
          "base_uri": "https://localhost:8080/"
        },
        "id": "FA5oaofUNLlA",
        "outputId": "3d975243-a45c-4d02-def9-a55936b5333e"
      },
      "outputs": [],
      "source": [
        "def calcB_from_reductedA(x, y, interp, mat, sign):\n",
        "  dx, dy = interp.gradient(x, y)\n",
        "  t = mu0 * coil.calc_gradA(np.stack((x, y), axis=-1))\n",
        "  return dy + t[..., 1], -(dx + t[..., 0])\n",
        "\n",
        "#plot_scalar(problem, solutions, lambda x, y, interp, mat, sign: interp(x, y), \"$A_{reducted}$\")\n",
        "#plot_vector(problem, solutions, calcB_from_reductedA, \"$B(A_{reducted})$\")\n",
        "plot_diff(problem, solutions, problem2, best_sol, calcB_from_reductedA, calcB, \"$||B(A_{reducted}) - B_{dbl}(A_{total})||/||B_{dbl}(A_{total})||_\\\\infty$\")"
      ]
    },
    {
      "cell_type": "markdown",
      "metadata": {
        "id": "o0dr1eIpALeb"
      },
      "source": [
        "# Total and reducted $A$ potentials\n",
        "\n",
        "$\\sum\\limits_i \\left(\\frac{1}{\\mu} \\nabla A, \\nabla v\\right)_{\\Omega_i} = - \\sum\\limits_{i\\in\\Omega_r} \\left(\\frac{1}{\\mu} \\frac{\\partial A_e}{\\partial n}, v\\right)_{\\partial\\Omega_i}$\n",
        "\n",
        "$\\left[A\\right]_{\\partial \\Omega_r \\cap \\partial \\Omega_t} = A_e, -\\Delta A_e = \\mu_0 J$"
      ]
    },
    {
      "cell_type": "code",
      "execution_count": null,
      "metadata": {
        "colab": {
          "base_uri": "https://localhost:8080/"
        },
        "id": "2sCUDhdZrkhf",
        "outputId": "8248459d-36da-4b5e-a969-849020e14d00"
      },
      "outputs": [],
      "source": [
        "materials = { 'steel': { 'coeff': 1.0/mu },\n",
        "              'air': { 'coeff': 1.0/mu0, 'gap': lambda p, n: -np.sum(mu0 * coil.calc_gradA(p) * n, axis=-1)/mu0 },\n",
        "              'coil_pos': { 'coeff': 1.0/mu0 },\n",
        "              'coil_neg': { 'coeff': 1.0/mu0 }\n",
        "            }\n",
        "\n",
        "problem.assembly('dirichlet', materials)\n",
        "print_feti_information(problem)\n",
        "problem.add_skeleton_projection(lambda p, n: -mu0 * coil.calcA(p), {'air': {'gap'}})\n",
        "problem.decompose()\n",
        "solutions = problem.solve()"
      ]
    },
    {
      "cell_type": "code",
      "execution_count": null,
      "metadata": {
        "colab": {
          "base_uri": "https://localhost:8080/"
        },
        "id": "d3npkDoyrCuB",
        "outputId": "de40f02b-3843-4426-d6fc-cf397a75d47e"
      },
      "outputs": [],
      "source": [
        "def calcB_from_mixedA(x, y, interp, mat, sign):\n",
        "  dx, dy = interp.gradient(x, y)\n",
        "  if mat == 'steel':\n",
        "    return dy, -dx\n",
        "  t = mu0 * coil.calc_gradA(np.stack((x, y), axis=-1))\n",
        "  return dy +  t[..., 1], -(dx + t[..., 0])\n",
        "\n",
        "#plot_scalar(problem, solutions, lambda x, y, interp, mat, sign: interp(x, y), \"$A_{mixed}$\")\n",
        "#plot_vector(problem, solutions, calcB_from_mixedA, \"$B(A_{mixed})$\")\n",
        "plot_diff(problem, solutions, problem2, best_sol, calcB_from_mixedA, calcB, \"$||B(A_{mixed}) - B_{dbl}(A_{total})||/||B_{dbl}(A_{total})||_\\\\infty$\")"
      ]
    },
    {
      "cell_type": "markdown",
      "metadata": {
        "id": "5TzR3DNwb49l"
      },
      "source": [
        "# Reducted $\\varphi$ potential\n",
        "\n",
        "$\\sum\\limits_i \\left(\\mu \\nabla \\varphi, \\nabla v\\right)_{\\Omega_i} = \\sum\\limits_i \\left(\\mu H_e \\cdot n, v\\right)_{\\partial\\Omega_i}$\n",
        "\n",
        "$\\nabla \\times H_e = J, \\nabla \\cdot H_e = 0$\n",
        "\n",
        "$H_e = \\nabla \\times \\left(A_e e_z \\right), -\\Delta A_e = J$"
      ]
    },
    {
      "cell_type": "code",
      "execution_count": null,
      "metadata": {
        "colab": {
          "base_uri": "https://localhost:8080/"
        },
        "id": "kkqDu0Ldb8ae",
        "outputId": "689e067d-ba0f-4baf-dcda-66a66db506de"
      },
      "outputs": [],
      "source": [
        "materials = { 'steel': { 'coeff': mu, 'gap': lambda p, n: mu * np.sum(coil.calc_rotA(p) * n, axis=-1) },\n",
        "              'air': { 'coeff': mu0, 'gap': lambda p, n: mu0 * np.sum(coil.calc_rotA(p) * n, axis=-1) },\n",
        "              'coil_pos': { 'coeff': mu0 },\n",
        "              'coil_neg': { 'coeff': mu0 }\n",
        "            }\n",
        "\n",
        "problem.assembly('neumann', materials)\n",
        "print_feti_information(problem)\n",
        "problem.decompose()\n",
        "solutions = problem.solve()"
      ]
    },
    {
      "cell_type": "code",
      "execution_count": null,
      "metadata": {
        "colab": {
          "base_uri": "https://localhost:8080/"
        },
        "id": "BeE9fOCu4dcS",
        "outputId": "d34b5313-5e7a-48c0-fbff-528100da076f"
      },
      "outputs": [],
      "source": [
        "def calcB_from_reductedPhi(x, y, interp, mat, sign):\n",
        "  dx, dy = interp.gradient(x, y)\n",
        "  t = coil.calc_rotA(np.stack((x, y), axis=-1))\n",
        "  if mat == 'steel':\n",
        "    return mu * (t[..., 0] - sign * dx), mu * (t[..., 1] - sign * dy)\n",
        "  return mu0 * (t[..., 0] - sign * dx), mu0 * (t[..., 1] - sign * dy)\n",
        "\n",
        "#plot_scalar(problem, solutions, lambda x, y, interp, mat, sign: sign * interp(x, y), \"$\\\\varphi_{reducted}$\", mesh=True)\n",
        "#plot_vector(problem, solutions, calcB_from_reductedPhi, \"$B(\\\\varphi_{reducted})$\", mesh=True)\n",
        "plot_diff(problem, solutions, problem2, best_sol, calcB_from_reductedPhi, calcB, \"$||B(\\\\varphi_{reducted}) - B_{dbl}(A_{total})||/||B_{dbl}(A_{total})||_\\\\infty$\")"
      ]
    },
    {
      "cell_type": "markdown",
      "metadata": {
        "id": "9p-fP18hWCtV"
      },
      "source": [
        "# Total and reducted $\\varphi$ potentials\n",
        "$\\sum\\limits_i \\left(\\mu \\nabla \\varphi, \\nabla v\\right)_{\\Omega_i} = \\sum\\limits_{i \\in \\Omega_r} \\left(\\mu H_e \\cdot n, v\\right)_{\\partial\\Omega_i}$\n",
        "\n",
        "$\\left[\\nabla \\varphi \\times n \\right]_{\\partial \\Omega_r \\cap \\partial \\Omega_t} = H_e \\times n, \\nabla \\times H_e = J, \\nabla \\cdot H_e = 0$\n",
        "\n",
        "$H_e = \\nabla \\times \\left(A_e e_z \\right), -\\Delta A_e = J$"
      ]
    },
    {
      "cell_type": "code",
      "execution_count": null,
      "metadata": {
        "colab": {
          "base_uri": "https://localhost:8080/"
        },
        "id": "WsY92XuwWHrg",
        "outputId": "9c2acfec-8614-472a-856c-51a31a9dbcb3"
      },
      "outputs": [],
      "source": [
        "materials = { 'steel': { 'coeff': mu },\n",
        "              'air': { 'coeff': mu0, 'gap': lambda p, n: mu0 * np.sum(coil.calc_rotA(p) * n, axis=-1) },\n",
        "              'coil_pos': { 'coeff': mu0 },\n",
        "              'coil_neg': { 'coeff': mu0 }\n",
        "            }\n",
        "\n",
        "problem.assembly('neumann', materials)\n",
        "print_feti_information(problem)\n",
        "proj = problem.add_skeleton_projection(lambda p, n: coil.calc_rotA(p), {'air': {'gap'}}, grad = True)\n",
        "problem.decompose()\n",
        "solutions = problem.solve()"
      ]
    },
    {
      "cell_type": "code",
      "execution_count": null,
      "metadata": {
        "colab": {
          "base_uri": "https://localhost:8080/"
        },
        "id": "U7rVAFu9ZhJa",
        "outputId": "8846b72c-513b-4b20-e115-2038a7b9d8bb"
      },
      "outputs": [],
      "source": [
        "def calcB_from_mixedPhi(x, y, interp, mat, sign):\n",
        "  dx, dy = interp.gradient(x, y)\n",
        "  if mat == 'steel':\n",
        "    return -mu * sign * dx, -mu * sign * dy\n",
        "  t = coil.calc_rotA(np.stack((x, y), axis=-1))\n",
        "  return mu0 * (t[..., 0] - sign * dx), mu0 * (t[..., 1] - sign * dy)\n",
        "\n",
        "#plot_scalar(problem, solutions, lambda x, y, interp, mat, sign: sign * interp(x, y), \"$\\\\varphi_{mixed}$\")\n",
        "#plot_vector(problem, solutions, calcB_from_mixedPhi, \"$B(\\\\varphi_{mixed})$\")\n",
        "plot_diff(problem, solutions, problem2, best_sol, calcB_from_mixedPhi, calcB, \"$||B(\\\\varphi_{mixed}) - B_{dbl}(A_{total})||/||B_{dbl}(A_{total})||_\\\\infty$\")"
      ]
    }
  ],
  "metadata": {
    "colab": {
      "collapsed_sections": [
        "573zi2NPlriP",
        "peUcXJRfZw5i",
        "8Wrx0G3zaEdH",
        "kQhLaeDdQ_Kc",
        "D8LmTFU5BPAt",
        "VERuJ-5qrPMQ",
        "ZjFiGTXm9XKc",
        "nEMyyw2FZQD6",
        "apYVlEd-VEfh",
        "xm51tkui_1fj",
        "7u8_4kUeZ7_o",
        "o0dr1eIpALeb",
        "5TzR3DNwb49l",
        "9p-fP18hWCtV"
      ],
      "provenance": []
    },
    "kernelspec": {
      "display_name": "Python 3",
      "name": "python3"
    },
    "language_info": {
      "codemirror_mode": {
        "name": "ipython",
        "version": 3
      },
      "file_extension": ".py",
      "mimetype": "text/x-python",
      "name": "python",
      "nbconvert_exporter": "python",
      "pygments_lexer": "ipython3",
      "version": "3.12.0"
    }
  },
  "nbformat": 4,
  "nbformat_minor": 0
}
